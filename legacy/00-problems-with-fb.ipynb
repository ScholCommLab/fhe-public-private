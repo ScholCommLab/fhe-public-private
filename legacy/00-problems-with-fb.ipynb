{
 "cells": [
  {
   "cell_type": "markdown",
   "metadata": {},
   "source": [
    "# Hidden Engagement & Problems\n",
    "\n",
    "This is an attempt to document some of the problems that were encountered while gathering Facebook engagement data for scholarly articles based on their DOIs. To be specific, we want to collect URL-specific engagement (shares, likes, comments) data and compare these with the article-based data from Altmetric. In this notebook I am trying to document and organize these oddities and surprises.\n",
    "\n",
    "## Intro\n",
    "\n",
    "**What Altmetric does:**\n",
    "\n",
    "Scholarly article -> crawl public Facebook pages -> count mentions of IDs, URLs\n",
    "\n",
    "**What we are trying:**\n",
    "\n",
    "Scholarly Article ID -> resolve to URL (e.g. via CrossRef) -> retrieve engagement data from FB OpenGraph API\n",
    "\n",
    "## Main challenges/questions\n",
    "\n",
    "Looking at the big picture we can see two main challenges for our approach:\n",
    "\n",
    "### How do we get to the relevant URLs?\n",
    "\n",
    "Starting at a single DOI for an article, how do we make sure to find the relevant URLs?\n",
    "\n",
    "Several subproblems and examples:\n",
    "\n",
    "+ DOIs point to different URLs over time\n",
    "\n",
    "    DOIs are meant to be persistent, but articles can migrate to new domains. Thus, simply resolving a DOI and retrieving engagement data will miss previous shares.\n",
    "    \n",
    "+ Different URLs might exist concurrently for articles.\n",
    "\n",
    "    Biomedical research is often identified by DOI and PMID. The DOI might resolve to a different URL than those based on PMID.\n",
    "\n",
    "So far, there are a few things that we could try (keep in mind that we need to query each URL seperately; the Facebook API is rate-limited)\n",
    "\n",
    "```\n",
    "DOI ---CrossRef--> current URL\n",
    "DOI -----PKP-----> original URL\n",
    "DOI -----PMC-----> alternative URLs for biomed research\n",
    "```\n",
    "\n",
    "### What happens at Facebook with those URLs?\n",
    "\n",
    "Having identified which URL we want to use to query the Facebook API, several things might happen now:\n",
    "\n",
    "- The Facebook Crawler will resolve each link to an Open Graph object based on a canonical URL which\n",
    "  - can be provided by the metatag `og:url`\n",
    "  - can be inferred from the page content\n",
    "  \n",
    "The canonical URL makes sure that different variations of a page (http, https, trailing slashes, different views) still resolve to the same Open Graph object (and thus share counts). Unfortunately, sometimes this doesn't happen:\n",
    "\n",
    "- Even if the page contains the recommended OG metatags, the FB crawler might fail to successfully resolve the URL. In an extreme case the canonical URL is modified because of resolve errors and causes different OG objects for varations of the same page. (See [StackOverflow question](https://stackoverflow.com/questions/48159408/facebook-crawler-infers-different-ogurl-than-the-one-specified-in-the-metatag))\n",
    "- If the page does not provide any metatags, FB tries to infer the canonical URL which often simply fails. Various versions of the same article will be resolved to different OG objects with varying share numbers.\n",
    "\n",
    "**Link resolving**\n",
    "\n",
    "As previously mentioned, bad page design (previous example was handling of some cookie error) can cause problems. But some URL require a browser to resolve successfully (see Joe's blogpost on CrossRef about [DOIs vs URLs](https://www.jerriepelser.com/blog/introduction-to-the-open-graph-protocol)). According to [this question](https://stackoverflow.com/questions/25420887/does-facebook-crawler-currently-interpret-javascript-before-parsing-the-dom) FB does not execute javascript to resolve URLs.\n",
    "\n",
    "**Max redirects or redirect loops**\n",
    "\n",
    "FB does also stop resolving URLs after 5 redirects.\n",
    "\n",
    "## Useful links\n",
    "\n",
    "+ Joe Wass at CrossRef has looked into the complicated relationship between DOIs and URLs. [link](https://www.crossref.org/blog/urls-and-dois-a-complicated-relationship/)\n",
    "+ A very quick introduction to the OpenGraph protocol. [link](https://www.jerriepelser.com/blog/introduction-to-the-open-graph-protocol)\n",
    "\n",
    "## Examples\n",
    "\n",
    "Now I want to go through some examples of the previously discussed problems."
   ]
  },
  {
   "cell_type": "code",
   "execution_count": 1,
   "metadata": {},
   "outputs": [],
   "source": [
    "import datetime, time\n",
    "import json\n",
    "import urllib.parse\n",
    "import pandas as pd\n",
    "import configparser\n",
    "from pprint import pprint\n",
    "\n",
    "from ATB.ATB.Altmetric import Altmetric, AltmetricHTTPException\n",
    "from ATB.ATB.Facebook import Facebook\n",
    "from ATB.ATB.Utils import resolve_doi\n",
    "\n",
    "import urllib\n",
    "\n",
    "# Load config\n",
    "Config = configparser.ConfigParser()\n",
    "Config.read('config.cnf')\n",
    "FACEBOOK_APP_ID = Config.get('facebook', 'app_id')\n",
    "FACEBOOK_APP_SECRET = Config.get('facebook', 'app_secret')\n",
    "ALTMETRIC_KEY = Config.get('altmetric', 'key')"
   ]
  },
  {
   "cell_type": "code",
   "execution_count": 2,
   "metadata": {},
   "outputs": [
    {
     "name": "stdout",
     "output_type": "stream",
     "text": [
      "Generated access token: 287299458433880|6Y_ml710QWnU7HBYLWjaneoWVKU\n"
     ]
    }
   ],
   "source": [
    "fb_graph = Facebook(FACEBOOK_APP_ID, FACEBOOK_APP_SECRET)\n",
    "altmetric = Altmetric(api_key = ALTMETRIC_KEY)"
   ]
  },
  {
   "cell_type": "markdown",
   "metadata": {},
   "source": [
    "### URL variations mapped to different Open Graph objects\n",
    "\n",
    "One article and various URL variations -> different OG objects.\n",
    "\n",
    "Details for this problem: https://stackoverflow.com/questions/48159408/facebook-crawler-infers-different-ogurl-than-the-one-specified-in-the-metatag\n",
    "\n",
    "Nevertheless, it is interesting to compare the share count directly from FB with the numbers from Altmetric.com\n",
    "\n",
    "```\n",
    "Sum of Facebook URLs: 1018\n",
    "Altmetric shares: 48\n",
    "```\n",
    "\n",
    "(Even though I am not so sure, about the 509 shares of two different Open Graph objects... Facebook is a mess...)"
   ]
  },
  {
   "cell_type": "code",
   "execution_count": 21,
   "metadata": {},
   "outputs": [
    {
     "data": {
      "text/html": [
       "<div>\n",
       "<style>\n",
       "    .dataframe thead tr:only-child th {\n",
       "        text-align: right;\n",
       "    }\n",
       "\n",
       "    .dataframe thead th {\n",
       "        text-align: left;\n",
       "    }\n",
       "\n",
       "    .dataframe tbody tr th {\n",
       "        vertical-align: top;\n",
       "    }\n",
       "</style>\n",
       "<table border=\"1\" class=\"dataframe\">\n",
       "  <thead>\n",
       "    <tr style=\"text-align: right;\">\n",
       "      <th></th>\n",
       "      <th>URL</th>\n",
       "      <th>OG IDs</th>\n",
       "      <th>Shares</th>\n",
       "    </tr>\n",
       "  </thead>\n",
       "  <tbody>\n",
       "    <tr>\n",
       "      <th>0</th>\n",
       "      <td>http://www.nature.com/news/the-future-of-dna-s...</td>\n",
       "      <td>1431803343584077</td>\n",
       "      <td>509.0</td>\n",
       "    </tr>\n",
       "    <tr>\n",
       "      <th>1</th>\n",
       "      <td>http://www.nature.com/news/the-future-of-dna-s...</td>\n",
       "      <td>1313165148787816</td>\n",
       "      <td>0.0</td>\n",
       "    </tr>\n",
       "    <tr>\n",
       "      <th>2</th>\n",
       "      <td>https://www.nature.com/news/the-future-of-dna-...</td>\n",
       "      <td>1513472432101761</td>\n",
       "      <td>3.0</td>\n",
       "    </tr>\n",
       "    <tr>\n",
       "      <th>3</th>\n",
       "      <td>https://www.nature.com/news/the-future-of-dna-...</td>\n",
       "      <td>1500355130063165</td>\n",
       "      <td>0.0</td>\n",
       "    </tr>\n",
       "    <tr>\n",
       "      <th>4</th>\n",
       "      <td>http://dx.doi.org/10.1038/550179a</td>\n",
       "      <td>1472429859490322</td>\n",
       "      <td>509.0</td>\n",
       "    </tr>\n",
       "    <tr>\n",
       "      <th>5</th>\n",
       "      <td>https://dx.doi.org/10.1038/550179a</td>\n",
       "      <td>None</td>\n",
       "      <td>NaN</td>\n",
       "    </tr>\n",
       "    <tr>\n",
       "      <th>6</th>\n",
       "      <td>http://doi.org/10.1038/550179a</td>\n",
       "      <td>None</td>\n",
       "      <td>NaN</td>\n",
       "    </tr>\n",
       "    <tr>\n",
       "      <th>7</th>\n",
       "      <td>https://doi.org/10.1038/550179a</td>\n",
       "      <td>None</td>\n",
       "      <td>NaN</td>\n",
       "    </tr>\n",
       "  </tbody>\n",
       "</table>\n",
       "</div>"
      ],
      "text/plain": [
       "                                                 URL            OG IDs  Shares\n",
       "0  http://www.nature.com/news/the-future-of-dna-s...  1431803343584077   509.0\n",
       "1  http://www.nature.com/news/the-future-of-dna-s...  1313165148787816     0.0\n",
       "2  https://www.nature.com/news/the-future-of-dna-...  1513472432101761     3.0\n",
       "3  https://www.nature.com/news/the-future-of-dna-...  1500355130063165     0.0\n",
       "4                  http://dx.doi.org/10.1038/550179a  1472429859490322   509.0\n",
       "5                 https://dx.doi.org/10.1038/550179a              None     NaN\n",
       "6                     http://doi.org/10.1038/550179a              None     NaN\n",
       "7                    https://doi.org/10.1038/550179a              None     NaN"
      ]
     },
     "execution_count": 21,
     "metadata": {},
     "output_type": "execute_result"
    }
   ],
   "source": [
    "url_base = \"www.nature.com/news/the-future-of-dna-sequencing-1.22787\"\n",
    "doi = \"10.1038/550179a\"\n",
    "\n",
    "urls = ['http://' + url_base,\n",
    "        'http://' + url_base + '/',\n",
    "        'https://' + url_base,\n",
    "        'https://' + url_base + '/',\n",
    "        'http://dx.doi.org/' + doi,\n",
    "        'https://dx.doi.org/' + doi,\n",
    "        'http://doi.org/' + doi,\n",
    "        'https://doi.org/' + doi]\n",
    "\n",
    "og_ids = []\n",
    "shares = []\n",
    "\n",
    "for url in urls:\n",
    "    try:\n",
    "        r = fb_graph.get_object(url, fields=\"og_object, engagement\")\n",
    "        og_ids.append(r['og_object']['id'])\n",
    "        shares.append(r['engagement']['share_count'])\n",
    "    except:\n",
    "        og_ids.append(None)\n",
    "        shares.append(None)\n",
    "    \n",
    "pd.DataFrame({'URL': urls,\n",
    "              'OG IDs': og_ids,\n",
    "              'Shares': shares})[['URL', 'OG IDs', 'Shares']]"
   ]
  },
  {
   "cell_type": "markdown",
   "metadata": {},
   "source": [
    "As a comparison the Altmetric FB share count for the DOI"
   ]
  },
  {
   "cell_type": "code",
   "execution_count": 9,
   "metadata": {},
   "outputs": [
    {
     "data": {
      "text/plain": [
       "49"
      ]
     },
     "execution_count": 9,
     "metadata": {},
     "output_type": "execute_result"
    }
   ],
   "source": [
    "altmetric.doi(doi, fetch=True)['counts']['facebook']['posts_count']"
   ]
  },
  {
   "cell_type": "markdown",
   "metadata": {},
   "source": [
    "### FB Crawler - Max. Redirects\n",
    "\n",
    "The FB crawler is not properly crawling the previous URLs because of too many redirects (check with this [tool](https://developers.facebook.com/tools/debug/og/object/)). The displayed share numbers are from a previous crawl, when the URLs could still be resolved. This is also interesting as the displayed share numbers could thus always potentially be older."
   ]
  },
  {
   "cell_type": "markdown",
   "metadata": {},
   "source": [
    "### Different share counts for DOI & URL despite identical OG ID"
   ]
  },
  {
   "cell_type": "code",
   "execution_count": 14,
   "metadata": {},
   "outputs": [
    {
     "name": "stdout",
     "output_type": "stream",
     "text": [
      "DOI and ULR have same og_object_id: True\n",
      "FB shares for URL: 1\n",
      "FB shares for DOI: 0\n"
     ]
    }
   ],
   "source": [
    "url = \"http://bmcbiol.biomedcentral.com/articles/10.1186/1741-7007-10-51\"\n",
    "doi = \"http://dx.doi.org/10.1186/1741-7007-10-51\"\n",
    "\n",
    "fb_url = fb_graph.get_object(url, fields=\"engagement, og_object\")\n",
    "fb_doi = fb_graph.get_object(doi, fields=\"engagement, og_object\")\n",
    "\n",
    "print(\"DOI and ULR have same og_object_id: {}\".format(fb_url['og_object']['id'] == fb_doi['og_object']['id']))\n",
    "\n",
    "print(\"FB shares for URL: {}\".format(fb_url['engagement']['share_count']))\n",
    "print(\"FB shares for DOI: {}\".format(fb_doi['engagement']['share_count']))"
   ]
  },
  {
   "cell_type": "markdown",
   "metadata": {},
   "source": [
    "### 0 shares\n",
    "\n",
    "FB Graph API engagement often displays 0 shares even though the link has been definitely shared. E.g., Link to the [FB posting](https://www.facebook.com/permalink.php?story_fbid=790084137845947&id=583799085141121) and the [FB debugger results](https://developers.facebook.com/tools/debug/sharing/?q=https%3A%2F%2Fejournal.undip.ac.id%2Findex.php%2Fjitaa%2Farticle%2Fview%2F11730) for the shared link (Do not mix with number of shares of the FB posting - see previous point)"
   ]
  },
  {
   "cell_type": "markdown",
   "metadata": {},
   "source": [
    "### Facebook API share numbers vs Altmetric share numbers"
   ]
  },
  {
   "cell_type": "markdown",
   "metadata": {},
   "source": [
    "**Example 1**\n",
    "\n",
    "http://www.tandfonline.com/doi/full/10.3402/fnr.v60.31694\n",
    "\n",
    "```\n",
    "Altmetric: 276\n",
    "FB API: 2087\n",
    "```"
   ]
  },
  {
   "cell_type": "code",
   "execution_count": 57,
   "metadata": {},
   "outputs": [
    {
     "name": "stdout",
     "output_type": "stream",
     "text": [
      "Altmetric shares: 276\n",
      "Current DOI URL: 39\n",
      "PMCID: 134\n",
      "PMID: 67\n",
      "PKP URL: 1847\n"
     ]
    }
   ],
   "source": [
    "print(\"Altmetric shares:\", altmetric.doi(\"10.3402/fnr.v60.31694\", fetch=True)['counts']['facebook']['posts_count'])\n",
    "print(\"Current DOI URL:\", fb_graph.get_object(\"http://www.tandfonline.com/doi/full/10.3402/fnr.v60.31694\", fields=\"engagement, og_object\")['engagement']['share_count'])\n",
    "print(\"PMCID:\", fb_graph.get_object(\"https://www.ncbi.nlm.nih.gov/pmc/articles/PMC5040825/\", fields=\"engagement, og_object\")['engagement']['share_count'])\n",
    "print(\"PMID:\", fb_graph.get_object(\"https://www.ncbi.nlm.nih.gov/pubmed/27680091\", fields=\"engagement, og_object\")['engagement']['share_count'])\n",
    "print(\"PKP URL:\", fb_graph.get_object(\"http://www.foodandnutritionresearch.net/index.php/fnr/article/view/31694\", fields=\"engagement, og_object\")['engagement']['share_count'])"
   ]
  },
  {
   "cell_type": "markdown",
   "metadata": {},
   "source": [
    "**Example 2**\n",
    "\n",
    "http://www.scielo.br/scielo.php?script=sci_arttext&pid=S0080-62342013000100001&lng=pt&tlng=pt\n",
    "\n",
    "```\n",
    "Altmetric: 53\n",
    "FB API: 1156\n",
    "```"
   ]
  },
  {
   "cell_type": "code",
   "execution_count": 52,
   "metadata": {},
   "outputs": [
    {
     "name": "stdout",
     "output_type": "stream",
     "text": [
      "53\n"
     ]
    }
   ],
   "source": [
    "print(altmetric.doi(\"10.1590/S0080-62342013000100001\", fetch=True)['counts']['facebook']['posts_count'])"
   ]
  },
  {
   "cell_type": "code",
   "execution_count": 43,
   "metadata": {},
   "outputs": [
    {
     "name": "stdout",
     "output_type": "stream",
     "text": [
      "1156\n",
      "0\n"
     ]
    }
   ],
   "source": [
    "print(fb_graph.get_object(\"http://www.scielo.br/scielo.php?script=sci_arttext&pid=S0080-62342013000100001&lng=pt&tlng=pt\", fields=\"engagement, og_object\")['engagement']['share_count'])\n",
    "print(fb_graph.get_object(\"http://www.revistas.usp.br/reeusp/article/view/52846\", fields=\"engagement, og_object\")['engagement']['share_count'])"
   ]
  }
 ],
 "metadata": {
  "kernelspec": {
   "display_name": "altmetrics",
   "language": "python",
   "name": "altmetrics"
  },
  "language_info": {
   "codemirror_mode": {
    "name": "ipython",
    "version": 3
   },
   "file_extension": ".py",
   "mimetype": "text/x-python",
   "name": "python",
   "nbconvert_exporter": "python",
   "pygments_lexer": "ipython3",
   "version": "3.5.2"
  }
 },
 "nbformat": 4,
 "nbformat_minor": 2
}
