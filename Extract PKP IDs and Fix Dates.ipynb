{
 "cells": [
  {
   "cell_type": "code",
   "execution_count": 1,
   "metadata": {},
   "outputs": [],
   "source": [
    "import numpy as np\n",
    "import pandas as pd\n",
    "import re\n",
    "from datetime import date, timedelta"
   ]
  },
  {
   "cell_type": "code",
   "execution_count": 2,
   "metadata": {},
   "outputs": [],
   "source": [
    "df = pd.read_csv('input_files/pkp_index_record_details20180228.csv', sep='\\t')"
   ]
  },
  {
   "cell_type": "code",
   "execution_count": 3,
   "metadata": {},
   "outputs": [],
   "source": [
    "df.columns = ['date', 'source', 'identifiers']\n",
    "df.dropna(inplace=True)"
   ]
  },
  {
   "cell_type": "code",
   "execution_count": 4,
   "metadata": {},
   "outputs": [],
   "source": [
    "df['date'] = pd.to_datetime(df.date, errors='coerce')\n",
    "df['year'] = df.date.map(lambda x: x.year if x else np.nan)"
   ]
  },
  {
   "cell_type": "code",
   "execution_count": 5,
   "metadata": {},
   "outputs": [],
   "source": [
    "df['identifiers'] = df.identifiers.map(lambda x: x.split('; '))"
   ]
  },
  {
   "cell_type": "code",
   "execution_count": 6,
   "metadata": {},
   "outputs": [],
   "source": [
    "df['url'] = df.identifiers.map(lambda x: [i for i in x if i[0:4] == 'http'][0])"
   ]
  },
  {
   "cell_type": "code",
   "execution_count": 7,
   "metadata": {},
   "outputs": [],
   "source": [
    "df['dois'] = df.identifiers.map(lambda x: [i for i in x if i[0:3] == '10.'])"
   ]
  },
  {
   "cell_type": "code",
   "execution_count": 8,
   "metadata": {},
   "outputs": [],
   "source": [
    "df['doi'] = df.dois.map(lambda x: x[0] if len(x) > 0 else np.nan)"
   ]
  },
  {
   "cell_type": "code",
   "execution_count": 9,
   "metadata": {},
   "outputs": [],
   "source": [
    "try: \n",
    "    del df['dois']\n",
    "    del df['identifiers']\n",
    "    del df['source']\n",
    "except:\n",
    "    pass"
   ]
  },
  {
   "cell_type": "code",
   "execution_count": 10,
   "metadata": {},
   "outputs": [],
   "source": [
    "df.dropna(subset=['doi'], inplace=True)\n",
    "df.index.name = 'record_id'\n",
    "df.reset_index(inplace=True)\n",
    "df.set_index('doi', inplace=True)"
   ]
  },
  {
   "cell_type": "code",
   "execution_count": 11,
   "metadata": {},
   "outputs": [],
   "source": [
    "year_regex = re.compile('.*(?:[^\\d\\-]|^)((?:1\\d|20)\\d{2})(?:\\)|\\;|$).*')\n",
    "\n",
    "# pull the year out of the ( ) if it is present\n",
    "def find_best_year(y, s):\n",
    "    try:\n",
    "        y = int(y)\n",
    "        if not (y <= date.today().year and y > 1000):\n",
    "            y = None  # this means an invalid year in dcdate\n",
    "    except:\n",
    "        y = None\n",
    "\n",
    "    try: \n",
    "        r=year_regex.match(s)\n",
    "        year_in_source = int(r.group(1))\n",
    "        if year_in_source <= date.today().year and year_in_source > 1000:\n",
    "            y = year_in_source\n",
    "    except:\n",
    "        pass\n",
    "\n",
    "    return y"
   ]
  },
  {
   "cell_type": "code",
   "execution_count": 12,
   "metadata": {},
   "outputs": [],
   "source": [
    "df['year'] = df.apply(lambda row: find_best_year(row['year'], row['source']), axis=1)"
   ]
  },
  {
   "cell_type": "code",
   "execution_count": 15,
   "metadata": {},
   "outputs": [],
   "source": [
    "df.to_csv('input_files/PKP20180228_fixedates.csv')"
   ]
  }
 ],
 "metadata": {
  "kernelspec": {
   "display_name": "Python 3",
   "language": "python",
   "name": "python3"
  },
  "language_info": {
   "codemirror_mode": {
    "name": "ipython",
    "version": 3
   },
   "file_extension": ".py",
   "mimetype": "text/x-python",
   "name": "python",
   "nbconvert_exporter": "python",
   "pygments_lexer": "ipython3",
   "version": "3.6.4"
  }
 },
 "nbformat": 4,
 "nbformat_minor": 2
}
