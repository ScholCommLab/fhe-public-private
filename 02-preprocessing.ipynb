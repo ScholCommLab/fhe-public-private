{
 "cells": [
  {
   "cell_type": "code",
   "execution_count": 1,
   "metadata": {},
   "outputs": [],
   "source": [
    "import datetime, time\n",
    "import json\n",
    "import urllib.parse\n",
    "import pandas as pd\n",
    "import configparser\n",
    "from pprint import pprint\n",
    "from tqdm import tqdm, tqdm_notebook\n",
    "tqdm.pandas(tqdm_notebook)\n",
    "\n",
    "import sqlite3"
   ]
  },
  {
   "cell_type": "code",
   "execution_count": 2,
   "metadata": {},
   "outputs": [],
   "source": [
    "con = sqlite3.connect(\"data/pkp/main.db\")\n",
    "df = pd.read_sql_query(\"SELECT * from PKP\", con)\n",
    "df = df.set_index('doi')"
   ]
  },
  {
   "cell_type": "code",
   "execution_count": 3,
   "metadata": {},
   "outputs": [
    {
     "name": "stderr",
     "output_type": "stream",
     "text": [
      "278497it [00:59, 4649.97it/s]                            \n"
     ]
    }
   ],
   "source": [
    "def parse_json(row):\n",
    "    if row['am_response']:\n",
    "        row['am_response'] = json.loads(row['am_response'])\n",
    "\n",
    "    if row['fb_og_object']:\n",
    "        row['fb_og_object'] = json.loads(row['fb_og_object'])\n",
    "        \n",
    "    if row['fb_engagement']:\n",
    "        row['fb_engagement'] = json.loads(row['fb_engagement'])\n",
    "        \n",
    "    return row\n",
    "df = df.progress_apply(parse_json, axis=1)"
   ]
  },
  {
   "cell_type": "code",
   "execution_count": 4,
   "metadata": {},
   "outputs": [
    {
     "name": "stderr",
     "output_type": "stream",
     "text": [
      "278497it [23:38, 196.39it/s]                             \n"
     ]
    }
   ],
   "source": [
    "def extract_values(row):\n",
    "    row['fb_share_count'] = None\n",
    "    row['fb_reaction_count'] = None\n",
    "    row['fb_comment_plugin_count'] = None\n",
    "    row['fb_comment_count'] = None\n",
    "    row['fb_og_id'] = None\n",
    "    row['am_id'] = None\n",
    "    row['am_score'] = None\n",
    "    row['am_share_count'] = None\n",
    "    \n",
    "    if row['fb_og_object']:\n",
    "        row['fb_og_id'] = row['fb_og_object']['id']\n",
    "    \n",
    "    if row['fb_engagement']:\n",
    "        row['fb_share_count'] = row['fb_engagement']['share_count']\n",
    "        row['fb_reaction_count'] = row['fb_engagement']['reaction_count']\n",
    "        row['fb_comment_plugin_count'] = row['fb_engagement']['comment_plugin_count']\n",
    "        row['fb_comment_count'] = row['fb_engagement']['comment_count']\n",
    "    \n",
    "    if row['am_response']:\n",
    "        try:\n",
    "            row['am_id'] = row['am_response']['altmetric_id']\n",
    "        except:\n",
    "            pass\n",
    "\n",
    "        try:\n",
    "            row['am_score'] = row['am_response']['score']\n",
    "        except:\n",
    "            pass\n",
    "\n",
    "        try:\n",
    "            row['am_share_count'] = row['am_response']['counts']['facebook']['posts_count']\n",
    "        except:\n",
    "            pass\n",
    "    \n",
    "    return row\n",
    "df = df.progress_apply(extract_values, axis=1)"
   ]
  },
  {
   "cell_type": "code",
   "execution_count": 5,
   "metadata": {},
   "outputs": [
    {
     "data": {
      "text/html": [
       "<div>\n",
       "<style>\n",
       "    .dataframe thead tr:only-child th {\n",
       "        text-align: right;\n",
       "    }\n",
       "\n",
       "    .dataframe thead th {\n",
       "        text-align: left;\n",
       "    }\n",
       "\n",
       "    .dataframe tbody tr th {\n",
       "        vertical-align: top;\n",
       "    }\n",
       "</style>\n",
       "<table border=\"1\" class=\"dataframe\">\n",
       "  <thead>\n",
       "    <tr style=\"text-align: right;\">\n",
       "      <th></th>\n",
       "      <th>fb_share_count</th>\n",
       "      <th>fb_reaction_count</th>\n",
       "      <th>fb_comment_plugin_count</th>\n",
       "      <th>fb_comment_count</th>\n",
       "      <th>am_id</th>\n",
       "      <th>am_score</th>\n",
       "      <th>am_share_count</th>\n",
       "    </tr>\n",
       "  </thead>\n",
       "  <tbody>\n",
       "    <tr>\n",
       "      <th>count</th>\n",
       "      <td>29575.000000</td>\n",
       "      <td>29575.000000</td>\n",
       "      <td>29575.0</td>\n",
       "      <td>29575.000000</td>\n",
       "      <td>1.365800e+04</td>\n",
       "      <td>14585.000000</td>\n",
       "      <td>5696.000000</td>\n",
       "    </tr>\n",
       "    <tr>\n",
       "      <th>mean</th>\n",
       "      <td>11.406661</td>\n",
       "      <td>261.541505</td>\n",
       "      <td>0.0</td>\n",
       "      <td>0.860321</td>\n",
       "      <td>9.862113e+06</td>\n",
       "      <td>3.137581</td>\n",
       "      <td>1.761587</td>\n",
       "    </tr>\n",
       "    <tr>\n",
       "      <th>std</th>\n",
       "      <td>66.928563</td>\n",
       "      <td>1695.941605</td>\n",
       "      <td>0.0</td>\n",
       "      <td>5.026204</td>\n",
       "      <td>8.228859e+06</td>\n",
       "      <td>16.305080</td>\n",
       "      <td>4.850970</td>\n",
       "    </tr>\n",
       "    <tr>\n",
       "      <th>min</th>\n",
       "      <td>0.000000</td>\n",
       "      <td>0.000000</td>\n",
       "      <td>0.0</td>\n",
       "      <td>0.000000</td>\n",
       "      <td>1.035680e+05</td>\n",
       "      <td>0.000000</td>\n",
       "      <td>1.000000</td>\n",
       "    </tr>\n",
       "    <tr>\n",
       "      <th>25%</th>\n",
       "      <td>0.000000</td>\n",
       "      <td>0.000000</td>\n",
       "      <td>0.0</td>\n",
       "      <td>0.000000</td>\n",
       "      <td>2.929668e+06</td>\n",
       "      <td>0.250000</td>\n",
       "      <td>1.000000</td>\n",
       "    </tr>\n",
       "    <tr>\n",
       "      <th>50%</th>\n",
       "      <td>0.000000</td>\n",
       "      <td>0.000000</td>\n",
       "      <td>0.0</td>\n",
       "      <td>0.000000</td>\n",
       "      <td>6.483838e+06</td>\n",
       "      <td>0.750000</td>\n",
       "      <td>1.000000</td>\n",
       "    </tr>\n",
       "    <tr>\n",
       "      <th>75%</th>\n",
       "      <td>1.000000</td>\n",
       "      <td>0.000000</td>\n",
       "      <td>0.0</td>\n",
       "      <td>0.000000</td>\n",
       "      <td>1.579229e+07</td>\n",
       "      <td>2.600000</td>\n",
       "      <td>2.000000</td>\n",
       "    </tr>\n",
       "    <tr>\n",
       "      <th>max</th>\n",
       "      <td>449.000000</td>\n",
       "      <td>11408.000000</td>\n",
       "      <td>0.0</td>\n",
       "      <td>210.000000</td>\n",
       "      <td>3.070235e+07</td>\n",
       "      <td>954.936000</td>\n",
       "      <td>276.000000</td>\n",
       "    </tr>\n",
       "  </tbody>\n",
       "</table>\n",
       "</div>"
      ],
      "text/plain": [
       "       fb_share_count  fb_reaction_count  fb_comment_plugin_count  \\\n",
       "count    29575.000000       29575.000000                  29575.0   \n",
       "mean        11.406661         261.541505                      0.0   \n",
       "std         66.928563        1695.941605                      0.0   \n",
       "min          0.000000           0.000000                      0.0   \n",
       "25%          0.000000           0.000000                      0.0   \n",
       "50%          0.000000           0.000000                      0.0   \n",
       "75%          1.000000           0.000000                      0.0   \n",
       "max        449.000000       11408.000000                      0.0   \n",
       "\n",
       "       fb_comment_count         am_id      am_score  am_share_count  \n",
       "count      29575.000000  1.365800e+04  14585.000000     5696.000000  \n",
       "mean           0.860321  9.862113e+06      3.137581        1.761587  \n",
       "std            5.026204  8.228859e+06     16.305080        4.850970  \n",
       "min            0.000000  1.035680e+05      0.000000        1.000000  \n",
       "25%            0.000000  2.929668e+06      0.250000        1.000000  \n",
       "50%            0.000000  6.483838e+06      0.750000        1.000000  \n",
       "75%            0.000000  1.579229e+07      2.600000        2.000000  \n",
       "max          210.000000  3.070235e+07    954.936000      276.000000  "
      ]
     },
     "execution_count": 5,
     "metadata": {},
     "output_type": "execute_result"
    }
   ],
   "source": [
    "df.loc[df['doi_resolve_status'] == 200].describe()"
   ]
  },
  {
   "cell_type": "code",
   "execution_count": 6,
   "metadata": {},
   "outputs": [],
   "source": [
    "df[['timestamp',\n",
    "    'doi_resolve_status', 'doi_resolve_error', 'doi_url', 'fb_response_error', 'am_response_error',\n",
    "    'fb_og_id', 'fb_share_count', 'fb_reaction_count', 'fb_comment_plugin_count', 'fb_comment_count',\n",
    "    'am_id', 'am_score', 'am_share_count']].to_csv(\"PKP_temp.csv\")"
   ]
  }
 ],
 "metadata": {
  "kernelspec": {
   "display_name": "altmetrics",
   "language": "python",
   "name": "altmetrics"
  },
  "language_info": {
   "codemirror_mode": {
    "name": "ipython",
    "version": 3
   },
   "file_extension": ".py",
   "mimetype": "text/x-python",
   "name": "python",
   "nbconvert_exporter": "python",
   "pygments_lexer": "ipython3",
   "version": "3.5.2"
  }
 },
 "nbformat": 4,
 "nbformat_minor": 2
}
