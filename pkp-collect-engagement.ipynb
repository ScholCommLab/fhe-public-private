{
 "cells": [
  {
   "cell_type": "markdown",
   "metadata": {},
   "source": [
    "# PKP crawler\n",
    "\n",
    "Collect altmetric data for PKP publications\n",
    "\n",
    "1. Collect FB shares from Altmetric.com via DOI\n",
    "2. Collect FB shares from FB directly via URLs\n",
    "    - Resolved DOI\n",
    "    - Original PKP URL\n",
    "    - (opt) PMID\n",
    "    - (opt) PMCID"
   ]
  },
  {
   "cell_type": "code",
   "execution_count": 35,
   "metadata": {},
   "outputs": [
    {
     "data": {
      "application/vnd.jupyter.widget-view+json": {
       "model_id": "23d096f8b309422588eb7580efe4b7ce",
       "version_major": 2,
       "version_minor": 0
      },
      "text/html": [
       "<p>Failed to display Jupyter Widget of type <code>HBox</code>.</p>\n",
       "<p>\n",
       "  If you're reading this message in the Jupyter Notebook or JupyterLab Notebook, it may mean\n",
       "  that the widgets JavaScript is still loading. If this message persists, it\n",
       "  likely means that the widgets JavaScript library is either not installed or\n",
       "  not enabled. See the <a href=\"https://ipywidgets.readthedocs.io/en/stable/user_install.html\">Jupyter\n",
       "  Widgets Documentation</a> for setup instructions.\n",
       "</p>\n",
       "<p>\n",
       "  If you're reading this message in another frontend (for example, a static\n",
       "  rendering on GitHub or <a href=\"https://nbviewer.jupyter.org/\">NBViewer</a>),\n",
       "  it may mean that your frontend doesn't currently support widgets.\n",
       "</p>\n"
      ],
      "text/plain": [
       "HBox(children=(IntProgress(value=1, bar_style='info', max=1), HTML(value='')))"
      ]
     },
     "metadata": {},
     "output_type": "display_data"
    },
    {
     "name": "stdout",
     "output_type": "stream",
     "text": [
      "\n"
     ]
    }
   ],
   "source": [
    "import datetime\n",
    "import time\n",
    "import sys\n",
    "import re\n",
    "import requests\n",
    "import json\n",
    "import urllib\n",
    "from dateutil.parser import parse\n",
    "from random import shuffle\n",
    "\n",
    "import pandas as pd\n",
    "import numpy as np\n",
    "import lxml.etree as ET\n",
    "from pathlib import Path\n",
    "import configparser\n",
    "from ATB.ATB.Facebook import Facebook\n",
    "from ATB.ATB.Altmetric import Altmetric\n",
    "\n",
    "from tqdm import tqdm, tqdm_notebook\n",
    "tqdm_notebook().pandas()"
   ]
  },
  {
   "cell_type": "code",
   "execution_count": 3,
   "metadata": {},
   "outputs": [
    {
     "name": "stdout",
     "output_type": "stream",
     "text": [
      "Generated access token: 287299458433880|6Y_ml710QWnU7HBYLWjaneoWVKU\n"
     ]
    }
   ],
   "source": [
    "# Load config\n",
    "Config = configparser.ConfigParser()\n",
    "Config.read('config.cnf')\n",
    "FACEBOOK_APP_ID = Config.get('facebook', 'app_id')\n",
    "FACEBOOK_APP_SECRET = Config.get('facebook', 'app_secret')\n",
    "ALTMETRIC_KEY = Config.get('altmetric', 'key')\n",
    "\n",
    "fb_graph = Facebook(app_id=FACEBOOK_APP_ID, app_secret=FACEBOOK_APP_SECRET)\n",
    "altmetric = Altmetric(api_key = ALTMETRIC_KEY)"
   ]
  },
  {
   "cell_type": "code",
   "execution_count": 4,
   "metadata": {},
   "outputs": [],
   "source": [
    "data_folder = Path(\"data/pkp/\")\n",
    "input_file = data_folder / \"PKP_20171220.csv\""
   ]
  },
  {
   "cell_type": "code",
   "execution_count": 5,
   "metadata": {},
   "outputs": [],
   "source": [
    "## Functions\n",
    "def load_dataset(ids_file, resolv_dois_file):\n",
    "    ncbi = pd.read_csv(ids_file, parse_dates=['ncbi_ts'], index_col=\"doi\")\n",
    "    resolved_dois = pd.read_csv(resolv_dois_file, parse_dates=['doi_resolve_ts'], index_col=\"doi\")\n",
    "    \n",
    "    df = ncbi.merge(resolved_dois[['doi_url']], left_index=True, right_index=True, how=\"inner\")\n",
    "    return df.drop_duplicates()\n",
    "\n",
    "# Facebook\n",
    "def fb_query(url):\n",
    "    og_object = None\n",
    "    og_engagement = None\n",
    "    og_error = None\n",
    "    \n",
    "    try:\n",
    "        fb_response = fb_graph.get_object(\n",
    "            id=urllib.parse.quote_plus(url),\n",
    "            fields=\"engagement, og_object\"\n",
    "        )\n",
    "        \n",
    "        if 'og_object' in fb_response:\n",
    "            og_object = fb_response['og_object']\n",
    "        if 'engagement' in fb_response:\n",
    "            og_engagement = fb_response['engagement']\n",
    "    except Exception as e:\n",
    "        og_error = e\n",
    "  \n",
    "    return (og_object, og_engagement, og_error)\n",
    "\n",
    "def collect_fb_engagement(df):\n",
    "    df = df.copy()\n",
    "    df['og_obj'] = None\n",
    "    df['og_eng'] = None\n",
    "    df['og_err'] = None\n",
    "    df['og_ts'] = None\n",
    "    \n",
    "    rows = list(df.itertuples())\n",
    "    for row in tqdm_notebook(rows, total=len(rows)):\n",
    "        now = datetime.datetime.now()\n",
    "        og_object, og_engagement, og_error = fb_query(row.url)\n",
    "        \n",
    "        if og_object:\n",
    "            df.loc[(df.doi==row.doi) & (df.type==row.type), 'og_obj'] = json.dumps(og_object)\n",
    "        if og_engagement:\n",
    "            df.loc[(df.doi==row.doi) & (df.type==row.type), 'og_eng'] = json.dumps(og_engagement)\n",
    "        if og_error:\n",
    "            df.loc[(df.doi==row.doi) & (df.type==row.type), 'og_err'] = str(og_error)\n",
    "        df.loc[(df.doi==row.doi) & (df.type==row.type), 'og_ts'] = str(now)\n",
    "        \n",
    "    return df\n",
    "\n",
    "def extract_fb_shares(df):\n",
    "    result_cols = ['pkp', 'pkp_ogid',\n",
    "                   'pmid', 'pmid_ogid',\n",
    "                   'pmc', 'pmc_ogid',\n",
    "                   'doi', 'doi_ogid',\n",
    "                   'total']\n",
    "    shares = pd.DataFrame(columns=result_cols, index=list(set(df.doi)))\n",
    "    \n",
    "    for row in df.itertuples():\n",
    "        if pd.notnull(row.og_obj):\n",
    "            shares.loc[row.doi, row.type.split(\"_\")[0] + \"_ogid\"] =  json.loads(row.og_obj)['id']\n",
    "            shares.loc[row.doi, row.type.split(\"_\")[0]] =  int(json.loads(row.og_eng)['share_count'])\n",
    "        #if pd.notnull(row.og_eng):\n",
    "        #    shares.loc[row.doi, row.type.split(\"_\")[0]] =  int(json.loads(row.og_eng)['share_count'])\n",
    "        \n",
    "    return shares\n",
    "        \n",
    "# Altmetric\n",
    "def collect_am_engagement(df):\n",
    "    df = df[[]].copy()\n",
    "    df['am_resp'] = None\n",
    "    df['am_err'] = None\n",
    "    df['am_ts'] = None\n",
    "    \n",
    "    now = datetime.datetime.now()\n",
    "    \n",
    "    rows = list(df.itertuples())\n",
    "    for row in tqdm_notebook(rows, total=len(rows)):\n",
    "        try:\n",
    "            am_resp = altmetric.doi(doi=row.Index, fetch=True)\n",
    "            am_err = None\n",
    "        except Exception as e:\n",
    "            am_resp = None\n",
    "            am_err = e\n",
    "\n",
    "        df.loc[row.Index, 'am_resp'] = json.dumps(am_resp)\n",
    "        df.loc[row.Index, 'am_err'] = str(am_err)\n",
    "        df.loc[row.Index, 'am_ts'] = str(now)\n",
    "        \n",
    "    return df"
   ]
  },
  {
   "cell_type": "markdown",
   "metadata": {},
   "source": [
    "## Filter out invalid records\n",
    "\n",
    "- Different DOIs with identical PKP URLs\n",
    "- DOIs resolved to the same URL"
   ]
  },
  {
   "cell_type": "code",
   "execution_count": 82,
   "metadata": {},
   "outputs": [],
   "source": [
    "article_with_urls = pd.read_csv(data_folder / \"articles_with_urls.csv\", index_col=\"doi\")\n",
    "\n",
    "df_urls = article_with_urls.reset_index().melt(\n",
    "    value_vars=['pmc_url', 'pmid_url', 'pkp_url', 'doi_url'],\n",
    "    id_vars='doi',\n",
    "    value_name=\"url\",\n",
    "    var_name=\"type\")\n",
    "\n",
    "df_urls = df_urls.replace([\"None\", \"null\", \"\"], np.nan).dropna()\n",
    "df_urls = df_urls.drop_duplicates()"
   ]
  },
  {
   "cell_type": "code",
   "execution_count": 83,
   "metadata": {},
   "outputs": [
    {
     "name": "stdout",
     "output_type": "stream",
     "text": [
      "Removed 14049 rows with bad doi_url\n",
      "Removed 1190 rows with bad pkp_url\n",
      "Removed 0 rows with bad pmc_url\n",
      "Removed 0 rows with bad pmid_url\n"
     ]
    }
   ],
   "source": [
    "for _ in [\"doi_url\", \"pkp_url\", \"pmc_url\", \"pmid_url\"]:\n",
    "    selection = df_urls.copy()\n",
    "    selection = selection[selection.type == _]\n",
    "    selection['netloc'] = selection.url.apply(lambda x: urllib.parse.urlparse(x).netloc)\n",
    "    selection['path'] = selection.url.apply(lambda x: urllib.parse.urlparse(x).path)\n",
    "    bad_ones = selection[selection[['netloc', 'path']].duplicated(keep=False)].index\n",
    "    df_urls = df_urls.drop(bad_ones)\n",
    "    print(\"Removed {} rows with bad {}\".format(len(bad_ones), _))"
   ]
  },
  {
   "cell_type": "code",
   "execution_count": 84,
   "metadata": {},
   "outputs": [
    {
     "data": {
      "text/plain": [
       "pkp_url    117861\n",
       "doi_url    117861\n",
       "Name: type, dtype: int64"
      ]
     },
     "execution_count": 84,
     "metadata": {},
     "output_type": "execute_result"
    }
   ],
   "source": [
    "# Sanity check: duplicate URLs need to appear in both PKP and DOI\n",
    "df_urls[df_urls.url.isin(df_urls[df_urls.url.duplicated()].url)].type.value_counts()"
   ]
  },
  {
   "cell_type": "markdown",
   "metadata": {},
   "source": [
    "## Collect FB engagement"
   ]
  },
  {
   "cell_type": "code",
   "execution_count": 96,
   "metadata": {
    "scrolled": true
   },
   "outputs": [
    {
     "data": {
      "application/vnd.jupyter.widget-view+json": {
       "model_id": "baba315d1b7c49b1892315f77e31024c",
       "version_major": 2,
       "version_minor": 0
      },
      "text/html": [
       "<p>Failed to display Jupyter Widget of type <code>HBox</code>.</p>\n",
       "<p>\n",
       "  If you're reading this message in the Jupyter Notebook or JupyterLab Notebook, it may mean\n",
       "  that the widgets JavaScript is still loading. If this message persists, it\n",
       "  likely means that the widgets JavaScript library is either not installed or\n",
       "  not enabled. See the <a href=\"https://ipywidgets.readthedocs.io/en/stable/user_install.html\">Jupyter\n",
       "  Widgets Documentation</a> for setup instructions.\n",
       "</p>\n",
       "<p>\n",
       "  If you're reading this message in another frontend (for example, a static\n",
       "  rendering on GitHub or <a href=\"https://nbviewer.jupyter.org/\">NBViewer</a>),\n",
       "  it may mean that your frontend doesn't currently support widgets.\n",
       "</p>\n"
      ],
      "text/plain": [
       "HBox(children=(IntProgress(value=0, max=178), HTML(value='')))"
      ]
     },
     "metadata": {},
     "output_type": "display_data"
    },
    {
     "name": "stdout",
     "output_type": "stream",
     "text": [
      "\n"
     ]
    }
   ],
   "source": [
    "fb_results = collect_fb_engagement(df_urls)\n",
    "fb_results.to_csv(data_folder / \"fb_responses.csv\")"
   ]
  },
  {
   "cell_type": "code",
   "execution_count": 97,
   "metadata": {
    "scrolled": false
   },
   "outputs": [
    {
     "data": {
      "text/html": [
       "<div>\n",
       "<style>\n",
       "    .dataframe thead tr:only-child th {\n",
       "        text-align: right;\n",
       "    }\n",
       "\n",
       "    .dataframe thead th {\n",
       "        text-align: left;\n",
       "    }\n",
       "\n",
       "    .dataframe tbody tr th {\n",
       "        vertical-align: top;\n",
       "    }\n",
       "</style>\n",
       "<table border=\"1\" class=\"dataframe\">\n",
       "  <thead>\n",
       "    <tr style=\"text-align: right;\">\n",
       "      <th></th>\n",
       "      <th>pkp</th>\n",
       "      <th>pkp_ogid</th>\n",
       "      <th>pmid</th>\n",
       "      <th>pmid_ogid</th>\n",
       "      <th>pmc</th>\n",
       "      <th>pmc_ogid</th>\n",
       "      <th>doi</th>\n",
       "      <th>doi_ogid</th>\n",
       "      <th>total</th>\n",
       "    </tr>\n",
       "  </thead>\n",
       "  <tbody>\n",
       "    <tr>\n",
       "      <th>count</th>\n",
       "      <td>17.000000</td>\n",
       "      <td>1.700000e+01</td>\n",
       "      <td>0.0</td>\n",
       "      <td>0.0</td>\n",
       "      <td>1.0</td>\n",
       "      <td>1.000000e+00</td>\n",
       "      <td>16.000000</td>\n",
       "      <td>1.600000e+01</td>\n",
       "      <td>0.0</td>\n",
       "    </tr>\n",
       "    <tr>\n",
       "      <th>mean</th>\n",
       "      <td>0.705882</td>\n",
       "      <td>8.896411e+14</td>\n",
       "      <td>NaN</td>\n",
       "      <td>NaN</td>\n",
       "      <td>0.0</td>\n",
       "      <td>1.150652e+15</td>\n",
       "      <td>1.000000</td>\n",
       "      <td>1.075145e+15</td>\n",
       "      <td>NaN</td>\n",
       "    </tr>\n",
       "    <tr>\n",
       "      <th>std</th>\n",
       "      <td>2.417765</td>\n",
       "      <td>4.262513e+14</td>\n",
       "      <td>NaN</td>\n",
       "      <td>NaN</td>\n",
       "      <td>NaN</td>\n",
       "      <td>NaN</td>\n",
       "      <td>2.607681</td>\n",
       "      <td>5.042923e+14</td>\n",
       "      <td>NaN</td>\n",
       "    </tr>\n",
       "    <tr>\n",
       "      <th>min</th>\n",
       "      <td>0.000000</td>\n",
       "      <td>1.286770e+14</td>\n",
       "      <td>NaN</td>\n",
       "      <td>NaN</td>\n",
       "      <td>0.0</td>\n",
       "      <td>1.150652e+15</td>\n",
       "      <td>0.000000</td>\n",
       "      <td>1.286770e+14</td>\n",
       "      <td>NaN</td>\n",
       "    </tr>\n",
       "    <tr>\n",
       "      <th>25%</th>\n",
       "      <td>0.000000</td>\n",
       "      <td>6.284866e+14</td>\n",
       "      <td>NaN</td>\n",
       "      <td>NaN</td>\n",
       "      <td>0.0</td>\n",
       "      <td>1.150652e+15</td>\n",
       "      <td>0.000000</td>\n",
       "      <td>6.835809e+14</td>\n",
       "      <td>NaN</td>\n",
       "    </tr>\n",
       "    <tr>\n",
       "      <th>50%</th>\n",
       "      <td>0.000000</td>\n",
       "      <td>8.285243e+14</td>\n",
       "      <td>NaN</td>\n",
       "      <td>NaN</td>\n",
       "      <td>0.0</td>\n",
       "      <td>1.150652e+15</td>\n",
       "      <td>0.000000</td>\n",
       "      <td>1.092632e+15</td>\n",
       "      <td>NaN</td>\n",
       "    </tr>\n",
       "    <tr>\n",
       "      <th>75%</th>\n",
       "      <td>0.000000</td>\n",
       "      <td>1.111781e+15</td>\n",
       "      <td>NaN</td>\n",
       "      <td>NaN</td>\n",
       "      <td>0.0</td>\n",
       "      <td>1.150652e+15</td>\n",
       "      <td>0.250000</td>\n",
       "      <td>1.546874e+15</td>\n",
       "      <td>NaN</td>\n",
       "    </tr>\n",
       "    <tr>\n",
       "      <th>max</th>\n",
       "      <td>10.000000</td>\n",
       "      <td>1.745181e+15</td>\n",
       "      <td>NaN</td>\n",
       "      <td>NaN</td>\n",
       "      <td>0.0</td>\n",
       "      <td>1.150652e+15</td>\n",
       "      <td>10.000000</td>\n",
       "      <td>1.852334e+15</td>\n",
       "      <td>NaN</td>\n",
       "    </tr>\n",
       "  </tbody>\n",
       "</table>\n",
       "</div>"
      ],
      "text/plain": [
       "             pkp      pkp_ogid  pmid  pmid_ogid  pmc      pmc_ogid        doi  \\\n",
       "count  17.000000  1.700000e+01   0.0        0.0  1.0  1.000000e+00  16.000000   \n",
       "mean    0.705882  8.896411e+14   NaN        NaN  0.0  1.150652e+15   1.000000   \n",
       "std     2.417765  4.262513e+14   NaN        NaN  NaN           NaN   2.607681   \n",
       "min     0.000000  1.286770e+14   NaN        NaN  0.0  1.150652e+15   0.000000   \n",
       "25%     0.000000  6.284866e+14   NaN        NaN  0.0  1.150652e+15   0.000000   \n",
       "50%     0.000000  8.285243e+14   NaN        NaN  0.0  1.150652e+15   0.000000   \n",
       "75%     0.000000  1.111781e+15   NaN        NaN  0.0  1.150652e+15   0.250000   \n",
       "max    10.000000  1.745181e+15   NaN        NaN  0.0  1.150652e+15  10.000000   \n",
       "\n",
       "           doi_ogid  total  \n",
       "count  1.600000e+01    0.0  \n",
       "mean   1.075145e+15    NaN  \n",
       "std    5.042923e+14    NaN  \n",
       "min    1.286770e+14    NaN  \n",
       "25%    6.835809e+14    NaN  \n",
       "50%    1.092632e+15    NaN  \n",
       "75%    1.546874e+15    NaN  \n",
       "max    1.852334e+15    NaN  "
      ]
     },
     "execution_count": 97,
     "metadata": {},
     "output_type": "execute_result"
    }
   ],
   "source": [
    "fb_shares = extract_fb_shares(fb_results)\n",
    "fb_shares.to_csv(data_folder / \"fb_shares.csv\")\n",
    "fb_shares.astype(float).describe()"
   ]
  },
  {
   "cell_type": "markdown",
   "metadata": {},
   "source": [
    "## Collect Altmetric engagement"
   ]
  },
  {
   "cell_type": "code",
   "execution_count": 113,
   "metadata": {
    "scrolled": false
   },
   "outputs": [
    {
     "data": {
      "application/vnd.jupyter.widget-view+json": {
       "model_id": "c15bc4a3f6454705b56e289b00810570",
       "version_major": 2,
       "version_minor": 0
      },
      "text/html": [
       "<p>Failed to display Jupyter Widget of type <code>HBox</code>.</p>\n",
       "<p>\n",
       "  If you're reading this message in the Jupyter Notebook or JupyterLab Notebook, it may mean\n",
       "  that the widgets JavaScript is still loading. If this message persists, it\n",
       "  likely means that the widgets JavaScript library is either not installed or\n",
       "  not enabled. See the <a href=\"https://ipywidgets.readthedocs.io/en/stable/user_install.html\">Jupyter\n",
       "  Widgets Documentation</a> for setup instructions.\n",
       "</p>\n",
       "<p>\n",
       "  If you're reading this message in another frontend (for example, a static\n",
       "  rendering on GitHub or <a href=\"https://nbviewer.jupyter.org/\">NBViewer</a>),\n",
       "  it may mean that your frontend doesn't currently support widgets.\n",
       "</p>\n"
      ],
      "text/plain": [
       "HBox(children=(IntProgress(value=0), HTML(value='')))"
      ]
     },
     "metadata": {},
     "output_type": "display_data"
    },
    {
     "name": "stdout",
     "output_type": "stream",
     "text": [
      "\n"
     ]
    }
   ],
   "source": [
    "am_queries = collect_am_engagement(article_with_urls)\n",
    "am_queries.to_csv(data_folder / \"am_responses.csv\")"
   ]
  },
  {
   "cell_type": "markdown",
   "metadata": {},
   "source": [
    "## Playground"
   ]
  },
  {
   "cell_type": "code",
   "execution_count": 89,
   "metadata": {},
   "outputs": [],
   "source": [
    "am_results = pd.read_csv(data_folder / \"am_responses.csv\", parse_dates=['am_ts'])\n",
    "fb_results = pd.read_csv(data_folder / \"fb_responses.csv\",\n",
    "                         parse_dates=['ts'],\n",
    "                         dtype={'doi': str, 'type': str, 'url': str, 'og_obj': str, 'og_eng': str, 'og_err': str})\n",
    "am_results = am_results.replace(\"null\", np.nan)"
   ]
  },
  {
   "cell_type": "code",
   "execution_count": 95,
   "metadata": {},
   "outputs": [
    {
     "data": {
      "text/plain": [
       "(281607, 278496)"
      ]
     },
     "execution_count": 95,
     "metadata": {},
     "output_type": "execute_result"
    }
   ],
   "source": [
    "len(set(df_urls.doi)), len(am_results)"
   ]
  },
  {
   "cell_type": "code",
   "execution_count": 93,
   "metadata": {},
   "outputs": [
    {
     "data": {
      "text/plain": [
       "(365181, 373780)"
      ]
     },
     "execution_count": 93,
     "metadata": {},
     "output_type": "execute_result"
    }
   ],
   "source": [
    "len(df_urls) - 117861, len(fb_results)"
   ]
  },
  {
   "cell_type": "code",
   "execution_count": 105,
   "metadata": {},
   "outputs": [
    {
     "name": "stdout",
     "output_type": "stream",
     "text": [
      "doi_url: need to remove 14544\n",
      "pkp_url: need to remove 1104\n",
      "pmid_url: need to remove 1\n",
      "pmc_url: need to remove 1\n"
     ]
    }
   ],
   "source": [
    "frames = []\n",
    "for t in ['doi_url', 'pkp_url', 'pmid_url', 'pmc_url']:\n",
    "    a = fb_results[fb_results.type == t].copy()\n",
    "    b = df_urls[df_urls.type == t].copy()\n",
    "    c = a[a.doi.isin(b.doi.tolist())]\n",
    "    frames.append(c)\n",
    "    print(\"{}: need to remove {}\".format(t, len(a)-len(c)))"
   ]
  },
  {
   "cell_type": "code",
   "execution_count": 107,
   "metadata": {},
   "outputs": [],
   "source": [
    "pd.concat(frames).to_csv(data_folder / \"fb_responses_filtered.csv\")"
   ]
  },
  {
   "cell_type": "code",
   "execution_count": 114,
   "metadata": {},
   "outputs": [],
   "source": [
    "am_results[am_results.doi.isin(df_urls.doi)].set_index('doi').to_csv(data_folder / \"am_responses_filtered.csv\")"
   ]
  },
  {
   "cell_type": "code",
   "execution_count": 111,
   "metadata": {},
   "outputs": [
    {
     "data": {
      "text/plain": [
       "(278496, 274547)"
      ]
     },
     "execution_count": 111,
     "metadata": {},
     "output_type": "execute_result"
    }
   ],
   "source": [
    "len(am_results), len(am_results[am_results.doi.isin(df_urls.doi)])"
   ]
  }
 ],
 "metadata": {
  "kernelspec": {
   "display_name": "altmetrics",
   "language": "python",
   "name": "altmetrics"
  },
  "language_info": {
   "codemirror_mode": {
    "name": "ipython",
    "version": 3
   },
   "file_extension": ".py",
   "mimetype": "text/x-python",
   "name": "python",
   "nbconvert_exporter": "python",
   "pygments_lexer": "ipython3",
   "version": "3.5.2"
  }
 },
 "nbformat": 4,
 "nbformat_minor": 2
}
