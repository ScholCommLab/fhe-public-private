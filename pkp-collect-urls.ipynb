{
 "cells": [
  {
   "cell_type": "code",
   "execution_count": 31,
   "metadata": {},
   "outputs": [
    {
     "data": {
      "application/vnd.jupyter.widget-view+json": {
       "model_id": "2cabc9392ae74b0da7f29b9c2d5ab60b",
       "version_major": 2,
       "version_minor": 0
      },
      "text/html": [
       "<p>Failed to display Jupyter Widget of type <code>HBox</code>.</p>\n",
       "<p>\n",
       "  If you're reading this message in the Jupyter Notebook or JupyterLab Notebook, it may mean\n",
       "  that the widgets JavaScript is still loading. If this message persists, it\n",
       "  likely means that the widgets JavaScript library is either not installed or\n",
       "  not enabled. See the <a href=\"https://ipywidgets.readthedocs.io/en/stable/user_install.html\">Jupyter\n",
       "  Widgets Documentation</a> for setup instructions.\n",
       "</p>\n",
       "<p>\n",
       "  If you're reading this message in another frontend (for example, a static\n",
       "  rendering on GitHub or <a href=\"https://nbviewer.jupyter.org/\">NBViewer</a>),\n",
       "  it may mean that your frontend doesn't currently support widgets.\n",
       "</p>\n"
      ],
      "text/plain": [
       "HBox(children=(IntProgress(value=1, bar_style='info', max=1), HTML(value='')))"
      ]
     },
     "metadata": {},
     "output_type": "display_data"
    },
    {
     "name": "stdout",
     "output_type": "stream",
     "text": [
      "\n"
     ]
    }
   ],
   "source": [
    "import datetime\n",
    "import time\n",
    "import sys\n",
    "import re\n",
    "import requests\n",
    "import json\n",
    "from dateutil.parser import parse\n",
    "from random import shuffle\n",
    "\n",
    "import pandas as pd\n",
    "import numpy as np\n",
    "import lxml.etree as ET\n",
    "from ATB.ATB.Utils import resolve_doi\n",
    "\n",
    "from tqdm import tqdm, tqdm_notebook\n",
    "tqdm_notebook().pandas()"
   ]
  },
  {
   "cell_type": "code",
   "execution_count": null,
   "metadata": {},
   "outputs": [],
   "source": [
    "input_file = \"data/input_files/PKP_20171220.csv\" # doi, url, date"
   ]
  },
  {
   "cell_type": "markdown",
   "metadata": {},
   "source": [
    "# Input dataset\n",
    "\n",
    "PKP..."
   ]
  },
  {
   "cell_type": "code",
   "execution_count": 26,
   "metadata": {},
   "outputs": [
    {
     "data": {
      "application/vnd.jupyter.widget-view+json": {
       "model_id": "64f171d5edb646d2af2555144d212642",
       "version_major": 2,
       "version_minor": 0
      },
      "text/html": [
       "<p>Failed to display Jupyter Widget of type <code>HBox</code>.</p>\n",
       "<p>\n",
       "  If you're reading this message in the Jupyter Notebook or JupyterLab Notebook, it may mean\n",
       "  that the widgets JavaScript is still loading. If this message persists, it\n",
       "  likely means that the widgets JavaScript library is either not installed or\n",
       "  not enabled. See the <a href=\"https://ipywidgets.readthedocs.io/en/stable/user_install.html\">Jupyter\n",
       "  Widgets Documentation</a> for setup instructions.\n",
       "</p>\n",
       "<p>\n",
       "  If you're reading this message in another frontend (for example, a static\n",
       "  rendering on GitHub or <a href=\"https://nbviewer.jupyter.org/\">NBViewer</a>),\n",
       "  it may mean that your frontend doesn't currently support widgets.\n",
       "</p>\n"
      ],
      "text/plain": [
       "HBox(children=(IntProgress(value=0, max=292228), HTML(value='')))"
      ]
     },
     "metadata": {},
     "output_type": "display_data"
    },
    {
     "name": "stdout",
     "output_type": "stream",
     "text": [
      "\n"
     ]
    }
   ],
   "source": [
    "# https://www.crossref.org/blog/dois-and-matching-regular-expressions/\n",
    "\n",
    "def validate_doi(doi):\n",
    "    patterns = [r\"^10.\\d{4,9}/[-._;()/:A-Z0-9]+$\",\n",
    "                r\"^10.1002/[^\\s]+$\",\n",
    "                r\"^10.\\d{4}/\\d+-\\d+X?(\\d+)\\d+<[\\d\\w]+:[\\d\\w]*>\\d+.\\d+.\\w+;\\d$\",\n",
    "                r\"^10.1021/\\w\\w\\d+$\",\n",
    "                r\"^10.1207\\/[\\w\\d]+\\&\\d+_\\d+$\"\n",
    "               ]\n",
    "    \n",
    "    for pat in patterns:\n",
    "        if re.match(pat, doi, re.IGNORECASE):\n",
    "            return True\n",
    "    return False\n",
    "\n",
    "raw = pd.read_csv(input_file, encoding = 'utf8', parse_dates=['date'])\n",
    "raw = raw.drop_duplicates()\n",
    "raw['year'] = raw.date.apply(lambda x: x.year)\n",
    "def f(row):\n",
    "    row['valid_doi'] = validate_doi(row['doi'])\n",
    "    return row\n",
    "\n",
    "raw = raw.progress_apply(f, axis = 1)"
   ]
  },
  {
   "cell_type": "code",
   "execution_count": null,
   "metadata": {},
   "outputs": [],
   "source": [
    "temp = pd.read_csv(\"temp.csv\")"
   ]
  },
  {
   "cell_type": "code",
   "execution_count": 66,
   "metadata": {},
   "outputs": [],
   "source": [
    "sample = raw[raw.valid_doi].set_index(\"doi\")\n",
    "sample = sample[sample.index.isin(temp.doi)]\n",
    "del(sample['valid_doi'])"
   ]
  },
  {
   "cell_type": "markdown",
   "metadata": {},
   "source": [
    "# Collect additional URLs\n",
    "\n",
    "1. PMID/PMCID\n",
    "    1. Collect via [ID-Converter-API](https://www.ncbi.nlm.nih.gov/pmc/tools/id-converter-api/)\n",
    "    2. Collect via [Entrez]()\n",
    "2. Resolve DOIs\n",
    "\n",
    "## 1.A Collect with the ID-Converter-API\n",
    "\n",
    "We can use this API to directly find the corresponding PMID and PMCID for a DOI"
   ]
  },
  {
   "cell_type": "code",
   "execution_count": 68,
   "metadata": {},
   "outputs": [
    {
     "data": {
      "application/vnd.jupyter.widget-view+json": {
       "model_id": "0e1a05bccd144c27962875d2464d1fa4",
       "version_major": 2,
       "version_minor": 0
      },
      "text/html": [
       "<p>Failed to display Jupyter Widget of type <code>HBox</code>.</p>\n",
       "<p>\n",
       "  If you're reading this message in the Jupyter Notebook or JupyterLab Notebook, it may mean\n",
       "  that the widgets JavaScript is still loading. If this message persists, it\n",
       "  likely means that the widgets JavaScript library is either not installed or\n",
       "  not enabled. See the <a href=\"https://ipywidgets.readthedocs.io/en/stable/user_install.html\">Jupyter\n",
       "  Widgets Documentation</a> for setup instructions.\n",
       "</p>\n",
       "<p>\n",
       "  If you're reading this message in another frontend (for example, a static\n",
       "  rendering on GitHub or <a href=\"https://nbviewer.jupyter.org/\">NBViewer</a>),\n",
       "  it may mean that your frontend doesn't currently support widgets.\n",
       "</p>\n"
      ],
      "text/plain": [
       "HBox(children=(IntProgress(value=0, max=36), HTML(value='')))"
      ]
     },
     "metadata": {},
     "output_type": "display_data"
    },
    {
     "name": "stdout",
     "output_type": "stream",
     "text": [
      "\n"
     ]
    }
   ],
   "source": [
    "# https://www.ncbi.nlm.nih.gov/pmc/pmctopmid/\n",
    "\n",
    "url_base = \"https://www.ncbi.nlm.nih.gov/pmc/utils/idconv/v1.0\"\n",
    "\n",
    "params = {\n",
    "    'email': 'aenkhbay@sfu.ca',\n",
    "    'tool': 'ScholCommLab ID Crawler - scholcommlab.ca',\n",
    "    'idtype': 'doi',\n",
    "    'versions': 'no',\n",
    "    'format': 'json'\n",
    "}\n",
    "\n",
    "dois = sample.index.tolist()\n",
    "shuffle(dois)\n",
    "\n",
    "# Make two runs\n",
    "# 1. Search all PMC items (they also usually contain their link to PubMed)\n",
    "# 2. Search for remaining ones in PubMed\n",
    "\n",
    "batchsize = 200\n",
    "batches = range(0, len(dois), batchsize)\n",
    "for i in tqdm_notebook(batches, total=len(batches)):\n",
    "    batch = dois[i:i+batchsize] # the result might be shorter than batchsize at the end\n",
    "    \n",
    "    params['ids'] = \",\".join(batch)\n",
    "    response = requests.get(url_base,\n",
    "                            params=params)\n",
    "    records = json.loads(response.text)['records']\n",
    "    \n",
    "    for record in records:\n",
    "        doi = record['doi']\n",
    "        try:\n",
    "            sample.loc[doi, \"pmid\"] = record['pmid']\n",
    "        except:\n",
    "            sample.loc[doi, \"pmid\"] = None\n",
    "        \n",
    "        try:\n",
    "            sample.loc[doi, \"pmcid\"] = record[\"pmcid\"]\n",
    "        except:\n",
    "            sample.loc[doi, \"pmcid\"] = None\n",
    "        \n",
    "        try:\n",
    "            sample.loc[doi, \"ncbi_errmsg\"] = record[\"errmsg\"]\n",
    "        except:\n",
    "            sample.loc[doi, \"ncbi_errmsg\"] = None"
   ]
  },
  {
   "cell_type": "code",
   "execution_count": 69,
   "metadata": {},
   "outputs": [
    {
     "data": {
      "text/html": [
       "<div>\n",
       "<style>\n",
       "    .dataframe thead tr:only-child th {\n",
       "        text-align: right;\n",
       "    }\n",
       "\n",
       "    .dataframe thead th {\n",
       "        text-align: left;\n",
       "    }\n",
       "\n",
       "    .dataframe tbody tr th {\n",
       "        vertical-align: top;\n",
       "    }\n",
       "</style>\n",
       "<table border=\"1\" class=\"dataframe\">\n",
       "  <thead>\n",
       "    <tr style=\"text-align: right;\">\n",
       "      <th></th>\n",
       "      <th>pmid</th>\n",
       "      <th>pmcid</th>\n",
       "    </tr>\n",
       "  </thead>\n",
       "  <tbody>\n",
       "    <tr>\n",
       "      <th>count</th>\n",
       "      <td>6886</td>\n",
       "      <td>7063</td>\n",
       "    </tr>\n",
       "    <tr>\n",
       "      <th>unique</th>\n",
       "      <td>6886</td>\n",
       "      <td>7063</td>\n",
       "    </tr>\n",
       "    <tr>\n",
       "      <th>top</th>\n",
       "      <td>27609718</td>\n",
       "      <td>PMC4900835</td>\n",
       "    </tr>\n",
       "    <tr>\n",
       "      <th>freq</th>\n",
       "      <td>1</td>\n",
       "      <td>1</td>\n",
       "    </tr>\n",
       "  </tbody>\n",
       "</table>\n",
       "</div>"
      ],
      "text/plain": [
       "            pmid       pmcid\n",
       "count       6886        7063\n",
       "unique      6886        7063\n",
       "top     27609718  PMC4900835\n",
       "freq           1           1"
      ]
     },
     "execution_count": 69,
     "metadata": {},
     "output_type": "execute_result"
    }
   ],
   "source": [
    "pmc_sample = sample\n",
    "pmc_sample[['pmid', 'pmcid']].describe()"
   ]
  },
  {
   "cell_type": "markdown",
   "metadata": {},
   "source": [
    "## 1.B Collect via Entrez\n",
    "\n",
    "This approach utilises Entrez and comprises several steps:\n",
    "\n",
    "1. Search for the DOIs on Entre Search (batch search leads to a loss of the DOI <-> response mapping)\n",
    "2. Fetch the database entries for the collected PMIDs & PMCIDs\n",
    "3. Match the results and existing data based on DOI\n",
    "\n",
    "### Search for the DOis"
   ]
  },
  {
   "cell_type": "code",
   "execution_count": 77,
   "metadata": {},
   "outputs": [
    {
     "data": {
      "application/vnd.jupyter.widget-view+json": {
       "model_id": "8ce390675b5c4901be22a805b1f67941",
       "version_major": 2,
       "version_minor": 0
      },
      "text/html": [
       "<p>Failed to display Jupyter Widget of type <code>HBox</code>.</p>\n",
       "<p>\n",
       "  If you're reading this message in the Jupyter Notebook or JupyterLab Notebook, it may mean\n",
       "  that the widgets JavaScript is still loading. If this message persists, it\n",
       "  likely means that the widgets JavaScript library is either not installed or\n",
       "  not enabled. See the <a href=\"https://ipywidgets.readthedocs.io/en/stable/user_install.html\">Jupyter\n",
       "  Widgets Documentation</a> for setup instructions.\n",
       "</p>\n",
       "<p>\n",
       "  If you're reading this message in another frontend (for example, a static\n",
       "  rendering on GitHub or <a href=\"https://nbviewer.jupyter.org/\">NBViewer</a>),\n",
       "  it may mean that your frontend doesn't currently support widgets.\n",
       "</p>\n"
      ],
      "text/plain": [
       "HBox(children=(IntProgress(value=0, max=36), HTML(value='')))"
      ]
     },
     "metadata": {},
     "output_type": "display_data"
    },
    {
     "name": "stdout",
     "output_type": "stream",
     "text": [
      "\n"
     ]
    }
   ],
   "source": [
    "entrez_search = \"https://eutils.ncbi.nlm.nih.gov/entrez/eutils/esearch.fcgi\"\n",
    "\n",
    "pubmed_params = {\n",
    "    'db': \"pubmed\",\n",
    "    'retmode':'json',\n",
    "    'term': None\n",
    "}\n",
    "\n",
    "pmc_params = {\n",
    "    'db': \"pmc\",\n",
    "    'retmode':'json',\n",
    "    'term': None\n",
    "}\n",
    "\n",
    "found_pmcids = []\n",
    "found_pmids = []\n",
    "\n",
    "dois = sample.index.tolist()\n",
    "shuffle(dois)\n",
    "\n",
    "batchsize = 200\n",
    "batches = range(0, len(dois), batchsize)\n",
    "\n",
    "for i in tqdm_notebook(batches, total=len(batches)):\n",
    "    batch = dois[i:i+batchsize] # the result might be shorter than batchsize at the end\n",
    "    \n",
    "    # Query PubMed IDs\n",
    "    pubmed_params['term'] = \" OR \".join([x + \"[doi]\" for x in batch])\n",
    "    response = requests.get(entrez_search, params=pubmed_params)\n",
    "    \n",
    "    try:\n",
    "        found_pmids.extend(json.loads(response.text)['esearchresult']['idlist'])\n",
    "    except:\n",
    "        pass\n",
    "    \n",
    "    # Query PMC IDs\n",
    "    pmc_params['term'] = \" OR \".join([x + \"[doi]\" for x in batch])\n",
    "    response = requests.get(entrez_search, params=pmc_params)\n",
    "    \n",
    "    try:\n",
    "        found_pmcids.extend(json.loads(response.text)['esearchresult']['idlist'])\n",
    "    except:\n",
    "        pass"
   ]
  },
  {
   "cell_type": "markdown",
   "metadata": {},
   "source": [
    "### Fetch all the entries based on PMID/PMCID"
   ]
  },
  {
   "cell_type": "code",
   "execution_count": 46,
   "metadata": {},
   "outputs": [
    {
     "data": {
      "application/vnd.jupyter.widget-view+json": {
       "model_id": "0772d430d6614356be597ef189185255",
       "version_major": 2,
       "version_minor": 0
      },
      "text/html": [
       "<p>Failed to display Jupyter Widget of type <code>HBox</code>.</p>\n",
       "<p>\n",
       "  If you're reading this message in the Jupyter Notebook or JupyterLab Notebook, it may mean\n",
       "  that the widgets JavaScript is still loading. If this message persists, it\n",
       "  likely means that the widgets JavaScript library is either not installed or\n",
       "  not enabled. See the <a href=\"https://ipywidgets.readthedocs.io/en/stable/user_install.html\">Jupyter\n",
       "  Widgets Documentation</a> for setup instructions.\n",
       "</p>\n",
       "<p>\n",
       "  If you're reading this message in another frontend (for example, a static\n",
       "  rendering on GitHub or <a href=\"https://nbviewer.jupyter.org/\">NBViewer</a>),\n",
       "  it may mean that your frontend doesn't currently support widgets.\n",
       "</p>\n"
      ],
      "text/plain": [
       "HBox(children=(IntProgress(value=1, bar_style='info', max=1), HTML(value='')))"
      ]
     },
     "metadata": {},
     "output_type": "display_data"
    },
    {
     "name": "stdout",
     "output_type": "stream",
     "text": [
      "\n"
     ]
    },
    {
     "data": {
      "application/vnd.jupyter.widget-view+json": {
       "model_id": "644afc9c92bb469ba3081b014dc9f8af",
       "version_major": 2,
       "version_minor": 0
      },
      "text/html": [
       "<p>Failed to display Jupyter Widget of type <code>HBox</code>.</p>\n",
       "<p>\n",
       "  If you're reading this message in the Jupyter Notebook or JupyterLab Notebook, it may mean\n",
       "  that the widgets JavaScript is still loading. If this message persists, it\n",
       "  likely means that the widgets JavaScript library is either not installed or\n",
       "  not enabled. See the <a href=\"https://ipywidgets.readthedocs.io/en/stable/user_install.html\">Jupyter\n",
       "  Widgets Documentation</a> for setup instructions.\n",
       "</p>\n",
       "<p>\n",
       "  If you're reading this message in another frontend (for example, a static\n",
       "  rendering on GitHub or <a href=\"https://nbviewer.jupyter.org/\">NBViewer</a>),\n",
       "  it may mean that your frontend doesn't currently support widgets.\n",
       "</p>\n"
      ],
      "text/plain": [
       "HBox(children=(IntProgress(value=1, bar_style='info', max=1), HTML(value='')))"
      ]
     },
     "metadata": {},
     "output_type": "display_data"
    },
    {
     "name": "stdout",
     "output_type": "stream",
     "text": [
      "\n"
     ]
    }
   ],
   "source": [
    "entrez_results = []\n",
    "\n",
    "# XML Parser for the Entrez responses\n",
    "parser = ET.XMLParser(recover=True)\n",
    "\n",
    "base_url = \"https://eutils.ncbi.nlm.nih.gov/entrez/eutils/efetch.fcgi\"\n",
    "params = {\n",
    "    'retmode': 'xml',\n",
    "    'rettype': 'text'\n",
    "}\n",
    "batchsize = 50\n",
    "\n",
    "items = found_pmcids\n",
    "params['db'] = \"pubmed\"\n",
    "\n",
    "batches = range(0, len(items), batchsize)\n",
    "for i in tqdm_notebook(batches, total=(len(batches))):\n",
    "    batch = items[i:i+batchsize] # the result might be shorter than batchsize at the end\n",
    "    \n",
    "    params['id'] = \",\".join(batch)\n",
    "    response = requests.get(base_url, params=params)\n",
    "    \n",
    "    tree = ET.ElementTree(ET.fromstring(response.text, parser=parser))\n",
    "    articles = tree.findall(\".//article-meta\")\n",
    "    for article in articles:\n",
    "        _ = {}\n",
    "        for article_id in article.findall(\"article-id\"):\n",
    "            _[article_id.get('pub-id-type')] = article_id.text\n",
    "        entrez_results.append(_)\n",
    "\n",
    "items = found_pmids\n",
    "params['db'] = \"pmc\"\n",
    "batches = range(0, len(items), batchsize)\n",
    "for i in tqdm_notebook(batches, total=(len(batches))):\n",
    "    batch = items[i:i+batchsize] # the result might be shorter than batchsize at the end\n",
    "    \n",
    "    params['id'] = \",\".join(batch)\n",
    "    response = requests.get(base_url, params=params)\n",
    "    \n",
    "    tree = ET.ElementTree(ET.fromstring(response.text, parser=parser))\n",
    "    articles = tree.findall(\".//ArticleIdList\")\n",
    "    for article in articles:\n",
    "        _ = {}\n",
    "        for article_id in article.findall(\"ArticleId\"):\n",
    "            _[article_id.get('IdType')] = article_id.text\n",
    "        entrez_results.append(_)"
   ]
  },
  {
   "cell_type": "code",
   "execution_count": null,
   "metadata": {},
   "outputs": [],
   "source": [
    "# remove PMC from pmcids\n",
    "for article in entrez_results:\n",
    "    if 'pmc' in article:\n",
    "        if \"PMC\" in article['pmc']:\n",
    "            article['pmc'] = article['pmc'][3:]"
   ]
  },
  {
   "cell_type": "code",
   "execution_count": null,
   "metadata": {},
   "outputs": [],
   "source": [
    "doi_mapping = {}\n",
    "no_doi = []\n",
    "mismatch = []\n",
    "for article in article_ids + article_ids_2:\n",
    "    if 'doi' in article:\n",
    "        if article['doi'] in doi_mapping:\n",
    "            for k in [k for k in article.keys() if k in ['pmid', 'pmc', 'pmcid']]:\n",
    "                if k in doi_mapping[article['doi']]:\n",
    "                    if doi_mapping[article['doi']][k] != article[k]:\n",
    "                        mismatch.append((doi_mapping[article['doi']], article))\n",
    "                    else:\n",
    "                        doi_mapping[article['doi']][k] = article[k]\n",
    "        else:\n",
    "            doi_mapping[article['doi']] = {}\n",
    "            for k in [k for k in article.keys() if k in ['pmid', 'pmc', 'pmcid']]:\n",
    "                doi_mapping[article['doi']][k] = article[k]\n",
    "    else:\n",
    "        no_doi.append(article)"
   ]
  },
  {
   "cell_type": "code",
   "execution_count": null,
   "metadata": {},
   "outputs": [],
   "source": [
    "print(len(no_doi))\n",
    "print(len(doi_mapping))\n",
    "print(len(mismatch))"
   ]
  },
  {
   "cell_type": "code",
   "execution_count": null,
   "metadata": {},
   "outputs": [],
   "source": [
    "# API results\n",
    "api_results = sample[(~sample.pmid.isnull()) | (~sample.pmcid.isnull())][['pmid', 'pmcid']].to_dict(orient=\"index\")\n",
    "entrez_results = {}\n",
    "for k, v in doi_mapping.items():\n",
    "    if v:\n",
    "        entrez_results[k] = v"
   ]
  },
  {
   "cell_type": "code",
   "execution_count": null,
   "metadata": {},
   "outputs": [],
   "source": [
    "print(\"Entrez mappings: {}\".format(len(entrez_results)))\n",
    "print(\"NCBI API mappings: {}\".format(len(api_results)))\n",
    "print(\"Sum of all found DOIs: {}\".format(len(list(api_results.keys()) + list(entrez_results.keys()))))\n",
    "uniqe_dois = set(list(api_results.keys()) + list(entrez_results.keys()))\n",
    "print(\"Common DOIs: {} \".format(len(uniqe_dois)))"
   ]
  },
  {
   "cell_type": "code",
   "execution_count": null,
   "metadata": {},
   "outputs": [],
   "source": [
    "mismatched_results = 0\n",
    "okay_pmids = 0\n",
    "okay_pmc = 0\n",
    "for doi in uniqe_dois:\n",
    "    if doi in api_results and doi in entrez_results:\n",
    "        pmid_mismatch = False\n",
    "        pmcid_mismatch = False\n",
    "        if 'pmid' in api_results[doi] and 'pmid' in entrez_results[doi]:\n",
    "            pmid_mismatch = api_results[doi]['pmid'] !=  entrez_results[doi]['pmid']\n",
    "            if not pmid_mismatch:\n",
    "                okay_pmids = okay_pmids + 1\n",
    "        \n",
    "        if 'pmcid' in api_results[doi] and 'pmc' in entrez_results[doi]:\n",
    "            pmcid_mismatch = api_results[doi]['pmcid'][3:] !=  entrez_results[doi]['pmc']\n",
    "            if not pmcid_mismatch:\n",
    "                okay_pmc = okay_pmc + 1\n",
    "        \n",
    "        if pmid_mismatch or pmcid_mismatch:\n",
    "            mismatched_results = mismatched_results + 1\n",
    "print(\"Bad matches: {}\\nMatching PMC: {}\\nMatching PMID: {}\".format(mismatched_results, okay_pmc, okay_pmids))"
   ]
  },
  {
   "cell_type": "code",
   "execution_count": null,
   "metadata": {},
   "outputs": [],
   "source": [
    "dois = []\n",
    "pmids = []\n",
    "pmcids = []\n",
    "for doi in uniqe_dois:\n",
    "    dois.append(doi)\n",
    "    pmid = None\n",
    "    pmc = None\n",
    "    try:\n",
    "        pmid = entrez_results[doi]['pmid']\n",
    "    except:\n",
    "        pass\n",
    "    try:\n",
    "        pmid = api_results[doi]['pmid']\n",
    "    except:\n",
    "        pass\n",
    "    try:\n",
    "        pmc = entrez_results[doi]['pmc']\n",
    "    except:\n",
    "        pass\n",
    "    try:\n",
    "        pmc = api_results[doi]['pmcid'][3:]\n",
    "    except:\n",
    "        pass\n",
    "    pmids.append(pmid)\n",
    "    pmcids.append(pmc)"
   ]
  },
  {
   "cell_type": "code",
   "execution_count": null,
   "metadata": {},
   "outputs": [],
   "source": [
    "ncbi = pd.DataFrame({\n",
    "            'doi': dois,\n",
    "            'pmid': pmids,\n",
    "            'pmc': pmcids})\n",
    "ncbi = ncbi.set_index('doi')\n",
    "\n",
    "# add date and original PKP url \n",
    "ncbi = ncbi.merge(sample[['url','date']], left_index=True, right_index=True)\n",
    "ncbi.to_csv(\"data/pkp/pkp_collected_ids.csv\")"
   ]
  }
 ],
 "metadata": {
  "kernelspec": {
   "display_name": "altmetrics",
   "language": "python",
   "name": "altmetrics"
  },
  "language_info": {
   "codemirror_mode": {
    "name": "ipython",
    "version": 3
   },
   "file_extension": ".py",
   "mimetype": "text/x-python",
   "name": "python",
   "nbconvert_exporter": "python",
   "pygments_lexer": "ipython3",
   "version": "3.5.2"
  }
 },
 "nbformat": 4,
 "nbformat_minor": 2
}
