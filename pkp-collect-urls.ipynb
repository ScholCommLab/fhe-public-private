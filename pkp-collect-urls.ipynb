{
 "cells": [
  {
   "cell_type": "markdown",
   "metadata": {},
   "source": [
    "# Collect additional URLs\n",
    "\n",
    "1. PMID/PMCID\n",
    "    1. Collect via [ID-Converter-API](https://www.ncbi.nlm.nih.gov/pmc/tools/id-converter-api/)\n",
    "    2. Collect via [Entrez]()\n",
    "2. Resolve DOIs\n",
    "\n",
    "## 1.A Collect with the ID-Converter-API\n",
    "\n",
    "We can use this API to directly find the corresponding PMID and PMCID for a DOI"
   ]
  },
  {
   "cell_type": "code",
   "execution_count": 1,
   "metadata": {},
   "outputs": [
    {
     "data": {
      "application/vnd.jupyter.widget-view+json": {
       "model_id": "c9056a7c9ccc4df3a8ec37177787c6b6",
       "version_major": 2,
       "version_minor": 0
      },
      "text/html": [
       "<p>Failed to display Jupyter Widget of type <code>HBox</code>.</p>\n",
       "<p>\n",
       "  If you're reading this message in the Jupyter Notebook or JupyterLab Notebook, it may mean\n",
       "  that the widgets JavaScript is still loading. If this message persists, it\n",
       "  likely means that the widgets JavaScript library is either not installed or\n",
       "  not enabled. See the <a href=\"https://ipywidgets.readthedocs.io/en/stable/user_install.html\">Jupyter\n",
       "  Widgets Documentation</a> for setup instructions.\n",
       "</p>\n",
       "<p>\n",
       "  If you're reading this message in another frontend (for example, a static\n",
       "  rendering on GitHub or <a href=\"https://nbviewer.jupyter.org/\">NBViewer</a>),\n",
       "  it may mean that your frontend doesn't currently support widgets.\n",
       "</p>\n"
      ],
      "text/plain": [
       "HBox(children=(IntProgress(value=1, bar_style='info', max=1), HTML(value='')))"
      ]
     },
     "metadata": {},
     "output_type": "display_data"
    },
    {
     "name": "stdout",
     "output_type": "stream",
     "text": [
      "\n"
     ]
    }
   ],
   "source": [
    "import datetime\n",
    "import time\n",
    "import sys\n",
    "import re\n",
    "import requests\n",
    "import json\n",
    "from dateutil.parser import parse\n",
    "from random import shuffle\n",
    "\n",
    "from pathlib import Path\n",
    "import pandas as pd\n",
    "import numpy as np\n",
    "import lxml.etree as ET\n",
    "\n",
    "from tqdm import tqdm, tqdm_notebook\n",
    "tqdm_notebook().pandas()"
   ]
  },
  {
   "cell_type": "code",
   "execution_count": 19,
   "metadata": {},
   "outputs": [],
   "source": [
    "data_folder = Path(\"output_files/test/\")\n",
    "input_file = Path(\"input_files/PKP_20171220.csv\")"
   ]
  },
  {
   "cell_type": "code",
   "execution_count": 9,
   "metadata": {},
   "outputs": [],
   "source": [
    "## Functions\n",
    "def load_raw(input_file, valid_dois=True):\n",
    "    raw = pd.read_csv(input_file, encoding = 'utf8', parse_dates=True)\n",
    "    raw = raw.drop_duplicates()\n",
    "    return raw\n",
    "\n",
    "def validate_doi(doi):\n",
    "    # https://www.crossref.org/blog/dois-and-matching-regular-expressions/\n",
    "    patterns = [\n",
    "        r\"^10.\\d{4,9}/[-._;()/:A-Z0-9]+$\",\n",
    "        r\"^10.1002/[^\\s]+$\",\n",
    "        r\"^10.\\d{4}/\\d+-\\d+X?(\\d+)\\d+<[\\d\\w]+:[\\d\\w]*>\\d+.\\d+.\\w+;\\d$\",\n",
    "        r\"^10.1021/\\w\\w\\d+$\",    \n",
    "        r\"^10.1207\\/[\\w\\d]+\\&\\d+_\\d+$\"\n",
    "    ]\n",
    "    \n",
    "    if type(doi) != str:\n",
    "        return False\n",
    "       \n",
    "    for pat in patterns:\n",
    "        if re.match(pat, doi, re.IGNORECASE):\n",
    "            return True\n",
    "    return False\n",
    "\n",
    "def remove_invalid_dois(df):\n",
    "    valid_dois = [validate_doi(doi) for doi in df['doi']]\n",
    "    # df = df.progress_apply(validate_doi, axis = 1)\n",
    "    df = df[valid_dois]\n",
    "    return df\n",
    "\n",
    "def collect_ncbi_ids(df, batchsize, rand=True, debug=False):\n",
    "    df = df[[]].copy()\n",
    "    df['pmid'] = None\n",
    "    df['pmc']  = None\n",
    "    df['ncbi_ts'] = None\n",
    "    df['ncbi_errmsg'] = None\n",
    "    \n",
    "    # https://www.ncbi.nlm.nih.gov/pmc/pmctopmid/\n",
    "    url_base = \"https://www.ncbi.nlm.nih.gov/pmc/utils/idconv/v1.0\"\n",
    "\n",
    "    params = {\n",
    "        'email': 'aenkhbay@sfu.ca',\n",
    "        'tool': 'ScholCommLab ID Crawler - scholcommlab.ca',\n",
    "        'idtype': 'doi',\n",
    "        'versions': 'no',\n",
    "        'format': 'json'\n",
    "    }\n",
    "\n",
    "    dois = list(set(df.index.tolist()))\n",
    "    if rand:\n",
    "        shuffle(dois)\n",
    "\n",
    "    batches = range(0, len(dois), batchsize)\n",
    "    for i in tqdm_notebook(batches, disable=not debug):\n",
    "        now = datetime.datetime.now()\n",
    "        batch = dois[i:i+batchsize] # the result might be shorter than batchsize at the end\n",
    "\n",
    "        params['ids'] = \",\".join(batch)\n",
    "        response = requests.get(url_base,\n",
    "                                params=params)\n",
    "        records = json.loads(response.text)['records']\n",
    "\n",
    "        for record in records:\n",
    "            doi = record['doi']\n",
    "            df.loc[doi, 'ncbi_ts'] = str(now)\n",
    "            \n",
    "            try:\n",
    "                df.loc[doi, \"pmid\"] = record['pmid']\n",
    "            except:\n",
    "                pass\n",
    "\n",
    "            try:\n",
    "                df.loc[doi, \"pmc\"] = record[\"pmcid\"][3:]\n",
    "            except:\n",
    "                pass\n",
    "\n",
    "            try:\n",
    "                df.loc[doi, \"ncbi_errmsg\"] = record[\"errmsg\"]\n",
    "            except:\n",
    "                pass\n",
    "                \n",
    "    return df\n",
    "\n",
    "def resolve_dois(df, timeout, debug=False):\n",
    "    df = df[[]].copy()\n",
    "    df['doi_url'] = None\n",
    "    df['doi_resolve_ts']  = None\n",
    "    df['doi_resolve_status'] = None\n",
    "    df['doi_resolve_error'] = None\n",
    "    \n",
    "    for doi in tqdm_notebook(df.index, disable=not debug):\n",
    "        now = datetime.datetime.now()\n",
    "\n",
    "        # Init row values\n",
    "        doi_resolve_status = None\n",
    "        doi_resolve_error = None\n",
    "        doi_url = None\n",
    "\n",
    "        # Resolve DOI\n",
    "        try:\n",
    "            response = requests.get('https://doi.org/{}'.format(doi), allow_redirects=True, timeout=timeout)\n",
    "            if response.ok:\n",
    "                doi_resolve_status = response.status_code\n",
    "                doi_url = response.url\n",
    "            else:\n",
    "                response.urdoi_resolve_status = response.status_code\n",
    "                doi_resolve_error = response.reason\n",
    "        except requests.exceptions.Timeout as ex:\n",
    "            doi_resolve_error = \"Timeout\"\n",
    "        except requests.exceptions.TooManyRedirects  as ex:\n",
    "            doi_resolve_error = \"TooManyRedirects\"\n",
    "        except requests.exceptions.RequestException  as ex:\n",
    "            doi_resolve_error = \"RequestException\"\n",
    "        \n",
    "        df.loc[doi, 'doi_url'] = doi_url\n",
    "        df.loc[doi, 'doi_resolve_status'] = doi_resolve_status\n",
    "        df.loc[doi, 'doi_resolve_error'] = doi_resolve_error\n",
    "        df.loc[doi, 'doi_resolve_ts']  = str(now)\n",
    "    return df"
   ]
  },
  {
   "cell_type": "markdown",
   "metadata": {},
   "source": [
    "## Run the scripts"
   ]
  },
  {
   "cell_type": "code",
   "execution_count": 20,
   "metadata": {
    "scrolled": true
   },
   "outputs": [],
   "source": [
    "raw = load_raw(input_file)\n",
    "sample = remove_invalid_dois(raw).drop_duplicates().set_index(\"doi\")"
   ]
  },
  {
   "cell_type": "code",
   "execution_count": 21,
   "metadata": {},
   "outputs": [],
   "source": [
    "sample = sample.sample(100)"
   ]
  },
  {
   "cell_type": "code",
   "execution_count": 22,
   "metadata": {
    "scrolled": true
   },
   "outputs": [
    {
     "data": {
      "application/vnd.jupyter.widget-view+json": {
       "model_id": "7d551e560f4c435abf4299ee455b690d",
       "version_major": 2,
       "version_minor": 0
      },
      "text/html": [
       "<p>Failed to display Jupyter Widget of type <code>HBox</code>.</p>\n",
       "<p>\n",
       "  If you're reading this message in the Jupyter Notebook or JupyterLab Notebook, it may mean\n",
       "  that the widgets JavaScript is still loading. If this message persists, it\n",
       "  likely means that the widgets JavaScript library is either not installed or\n",
       "  not enabled. See the <a href=\"https://ipywidgets.readthedocs.io/en/stable/user_install.html\">Jupyter\n",
       "  Widgets Documentation</a> for setup instructions.\n",
       "</p>\n",
       "<p>\n",
       "  If you're reading this message in another frontend (for example, a static\n",
       "  rendering on GitHub or <a href=\"https://nbviewer.jupyter.org/\">NBViewer</a>),\n",
       "  it may mean that your frontend doesn't currently support widgets.\n",
       "</p>\n"
      ],
      "text/plain": [
       "HBox(children=(IntProgress(value=0, max=1), HTML(value='')))"
      ]
     },
     "metadata": {},
     "output_type": "display_data"
    },
    {
     "name": "stdout",
     "output_type": "stream",
     "text": [
      "\n"
     ]
    }
   ],
   "source": [
    "ncbi = collect_ncbi_ids(sample, batchsize=200, rand=True, debug=True)"
   ]
  },
  {
   "cell_type": "markdown",
   "metadata": {},
   "source": [
    "## Resolve DOIs and create PMC/PubMed URLs"
   ]
  },
  {
   "cell_type": "code",
   "execution_count": 23,
   "metadata": {},
   "outputs": [
    {
     "data": {
      "application/vnd.jupyter.widget-view+json": {
       "model_id": "528ad721a40b4ce8936471044cb39297",
       "version_major": 2,
       "version_minor": 0
      },
      "text/html": [
       "<p>Failed to display Jupyter Widget of type <code>HBox</code>.</p>\n",
       "<p>\n",
       "  If you're reading this message in the Jupyter Notebook or JupyterLab Notebook, it may mean\n",
       "  that the widgets JavaScript is still loading. If this message persists, it\n",
       "  likely means that the widgets JavaScript library is either not installed or\n",
       "  not enabled. See the <a href=\"https://ipywidgets.readthedocs.io/en/stable/user_install.html\">Jupyter\n",
       "  Widgets Documentation</a> for setup instructions.\n",
       "</p>\n",
       "<p>\n",
       "  If you're reading this message in another frontend (for example, a static\n",
       "  rendering on GitHub or <a href=\"https://nbviewer.jupyter.org/\">NBViewer</a>),\n",
       "  it may mean that your frontend doesn't currently support widgets.\n",
       "</p>\n"
      ],
      "text/plain": [
       "HBox(children=(IntProgress(value=0), HTML(value='')))"
      ]
     },
     "metadata": {},
     "output_type": "display_data"
    },
    {
     "name": "stdout",
     "output_type": "stream",
     "text": [
      "\n"
     ]
    }
   ],
   "source": [
    "resolved_dois = resolve_dois(sample, timeout=5, debug=True)"
   ]
  },
  {
   "cell_type": "code",
   "execution_count": null,
   "metadata": {},
   "outputs": [],
   "source": [
    "# resolved_dois = pd.read_csv(data_folder / \"resolved_dois.csv\", index_col=\"doi\")"
   ]
  },
  {
   "cell_type": "code",
   "execution_count": 27,
   "metadata": {},
   "outputs": [],
   "source": [
    "urls = sample[['url']].merge(ncbi, left_index=True, right_index=True)\n",
    "\n",
    "# Add NCBI URLs\n",
    "urls['pmid_url'] = urls.pmid.apply(lambda x: \"https://ncbi.nlm.nih.gov/pubmed/{}\".format(int(x)) if pd.notnull(x) else None)\n",
    "urls['pmc_url'] = urls.pmc.apply(lambda x: \"https://ncbi.nlm.nih.gov/pmc/articles/PMC{}/\".format(int(x)) if pd.notnull(x) else None)\n",
    "\n",
    "# Add resolved DOI URLs\n",
    "urls = urls.merge(resolved_dois, left_index=True, right_index=True).drop_duplicates()\n",
    "\n",
    "# Misc\n",
    "urls.rename(columns={'url':'pkp_url'}, inplace=True)\n",
    "urls[[x for x in urls.columns if \"url\" in x]].to_csv(data_folder / \"articles_with_urls.csv\")"
   ]
  }
 ],
 "metadata": {
  "kernelspec": {
   "display_name": "altmetrics",
   "language": "python",
   "name": "altmetrics"
  },
  "language_info": {
   "codemirror_mode": {
    "name": "ipython",
    "version": 3
   },
   "file_extension": ".py",
   "mimetype": "text/x-python",
   "name": "python",
   "nbconvert_exporter": "python",
   "pygments_lexer": "ipython3",
   "version": "3.5.2"
  }
 },
 "nbformat": 4,
 "nbformat_minor": 2
}
