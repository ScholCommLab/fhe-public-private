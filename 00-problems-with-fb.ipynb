{
 "cells": [
  {
   "cell_type": "markdown",
   "metadata": {},
   "source": [
    "# Hidden Engagement & Problems\n",
    "\n",
    "This is an attempt to document some of the problems that were encountered while gathering Facebook engagement data for scholarly articles based on their DOIs."
   ]
  },
  {
   "cell_type": "code",
   "execution_count": 1,
   "metadata": {},
   "outputs": [],
   "source": [
    "import datetime, time\n",
    "import json\n",
    "import urllib.parse\n",
    "import pandas as pd\n",
    "import configparser\n",
    "from pprint import pprint\n",
    "\n",
    "from ATB.ATB.Altmetric import Altmetric, AltmetricHTTPException\n",
    "from ATB.ATB.Facebook import Facebook\n",
    "from ATB.ATB.Utils import resolve_doi\n",
    "\n",
    "# Load config\n",
    "Config = configparser.ConfigParser()\n",
    "Config.read('config.cnf')\n",
    "FACEBOOK_APP_ID = Config.get('facebook', 'app_id')\n",
    "FACEBOOK_APP_SECRET = Config.get('facebook', 'app_secret')\n",
    "ALTMETRIC_KEY = Config.get('altmetric', 'key')"
   ]
  },
  {
   "cell_type": "code",
   "execution_count": 2,
   "metadata": {},
   "outputs": [
    {
     "name": "stdout",
     "output_type": "stream",
     "text": [
      "Generated access token: 287299458433880|6Y_ml710QWnU7HBYLWjaneoWVKU\n"
     ]
    }
   ],
   "source": [
    "fb_graph = Facebook(FACEBOOK_APP_ID, FACEBOOK_APP_SECRET)\n",
    "altmetric = Altmetric(api_key = ALTMETRIC_KEY)"
   ]
  },
  {
   "cell_type": "markdown",
   "metadata": {},
   "source": [
    "## 1. DOI <-> URL (Resolving DOIs)\n",
    "\n",
    "Problems while resolving DOIs. See this: https://www.crossref.org/blog/urls-and-dois-a-complicated-relationship/#"
   ]
  },
  {
   "cell_type": "markdown",
   "metadata": {},
   "source": [
    "## 2. URL <-> OpenGraph (Querying FB API)\n",
    "\n",
    "1. Facebook is sometimes maps different variatons of the same url (http, https, with and without trailing /) to different Open Graph Objects. Sometimes not...\n",
    "2. Some URLs to different articles are mapped to a single Open Graph object. Happens, e.g., with Scielo publications because Scielo uses URL parameters to specify pages"
   ]
  },
  {
   "cell_type": "code",
   "execution_count": 21,
   "metadata": {},
   "outputs": [
    {
     "data": {
      "text/html": [
       "<div>\n",
       "<style>\n",
       "    .dataframe thead tr:only-child th {\n",
       "        text-align: right;\n",
       "    }\n",
       "\n",
       "    .dataframe thead th {\n",
       "        text-align: left;\n",
       "    }\n",
       "\n",
       "    .dataframe tbody tr th {\n",
       "        vertical-align: top;\n",
       "    }\n",
       "</style>\n",
       "<table border=\"1\" class=\"dataframe\">\n",
       "  <thead>\n",
       "    <tr style=\"text-align: right;\">\n",
       "      <th></th>\n",
       "      <th>URL</th>\n",
       "      <th>OG IDs</th>\n",
       "      <th>Shares</th>\n",
       "    </tr>\n",
       "  </thead>\n",
       "  <tbody>\n",
       "    <tr>\n",
       "      <th>0</th>\n",
       "      <td>http://www.nature.com/news/the-future-of-dna-s...</td>\n",
       "      <td>1416175841826563</td>\n",
       "      <td>510.0</td>\n",
       "    </tr>\n",
       "    <tr>\n",
       "      <th>1</th>\n",
       "      <td>http://www.nature.com/news/the-future-of-dna-s...</td>\n",
       "      <td>1446759318778508</td>\n",
       "      <td>0.0</td>\n",
       "    </tr>\n",
       "    <tr>\n",
       "      <th>2</th>\n",
       "      <td>https://www.nature.com/news/the-future-of-dna-...</td>\n",
       "      <td>1585548861525924</td>\n",
       "      <td>1.0</td>\n",
       "    </tr>\n",
       "    <tr>\n",
       "      <th>3</th>\n",
       "      <td>https://www.nature.com/news/the-future-of-dna-...</td>\n",
       "      <td>1649534128454620</td>\n",
       "      <td>0.0</td>\n",
       "    </tr>\n",
       "    <tr>\n",
       "      <th>4</th>\n",
       "      <td>http://dx.doi.org/10.1038/550179a</td>\n",
       "      <td>1472429859490322</td>\n",
       "      <td>509.0</td>\n",
       "    </tr>\n",
       "    <tr>\n",
       "      <th>5</th>\n",
       "      <td>https://dx.doi.org/10.1038/550179a</td>\n",
       "      <td>None</td>\n",
       "      <td>NaN</td>\n",
       "    </tr>\n",
       "    <tr>\n",
       "      <th>6</th>\n",
       "      <td>http://doi.org/10.1038/550179a</td>\n",
       "      <td>None</td>\n",
       "      <td>NaN</td>\n",
       "    </tr>\n",
       "    <tr>\n",
       "      <th>7</th>\n",
       "      <td>https://doi.org/10.1038/550179a</td>\n",
       "      <td>None</td>\n",
       "      <td>NaN</td>\n",
       "    </tr>\n",
       "  </tbody>\n",
       "</table>\n",
       "</div>"
      ],
      "text/plain": [
       "                                                 URL            OG IDs  Shares\n",
       "0  http://www.nature.com/news/the-future-of-dna-s...  1416175841826563   510.0\n",
       "1  http://www.nature.com/news/the-future-of-dna-s...  1446759318778508     0.0\n",
       "2  https://www.nature.com/news/the-future-of-dna-...  1585548861525924     1.0\n",
       "3  https://www.nature.com/news/the-future-of-dna-...  1649534128454620     0.0\n",
       "4                  http://dx.doi.org/10.1038/550179a  1472429859490322   509.0\n",
       "5                 https://dx.doi.org/10.1038/550179a              None     NaN\n",
       "6                     http://doi.org/10.1038/550179a              None     NaN\n",
       "7                    https://doi.org/10.1038/550179a              None     NaN"
      ]
     },
     "execution_count": 21,
     "metadata": {},
     "output_type": "execute_result"
    }
   ],
   "source": [
    "url_base = \"www.nature.com/news/the-future-of-dna-sequencing-1.22787\"\n",
    "doi = \"10.1038/550179a\"\n",
    "\n",
    "urls = ['http://' + url_base,\n",
    "        'http://' + url_base + '/',\n",
    "        'https://' + url_base,\n",
    "        'https://' + url_base + '/',\n",
    "        'http://dx.doi.org/' + doi,\n",
    "        'https://dx.doi.org/' + doi,\n",
    "        'http://doi.org/' + doi,\n",
    "        'https://doi.org/' + doi]\n",
    "\n",
    "og_ids = []\n",
    "shares = []\n",
    "\n",
    "for url in urls:\n",
    "    try:\n",
    "        r = fb_graph.get_object(url, fields=\"og_object, engagement\")\n",
    "        og_ids.append(r['og_object']['id'])\n",
    "        shares.append(r['engagement']['share_count'])\n",
    "    except:\n",
    "        og_ids.append(None)\n",
    "        shares.append(None)\n",
    "    \n",
    "pd.DataFrame({'URL': urls,\n",
    "              'OG IDs': og_ids,\n",
    "              'Shares': shares})[['URL', 'OG IDs', 'Shares']]"
   ]
  },
  {
   "cell_type": "code",
   "execution_count": 19,
   "metadata": {},
   "outputs": [
    {
     "data": {
      "text/html": [
       "<div>\n",
       "<style>\n",
       "    .dataframe thead tr:only-child th {\n",
       "        text-align: right;\n",
       "    }\n",
       "\n",
       "    .dataframe thead th {\n",
       "        text-align: left;\n",
       "    }\n",
       "\n",
       "    .dataframe tbody tr th {\n",
       "        vertical-align: top;\n",
       "    }\n",
       "</style>\n",
       "<table border=\"1\" class=\"dataframe\">\n",
       "  <thead>\n",
       "    <tr style=\"text-align: right;\">\n",
       "      <th></th>\n",
       "      <th>OG IDs</th>\n",
       "      <th>Shares</th>\n",
       "      <th>URL</th>\n",
       "    </tr>\n",
       "  </thead>\n",
       "  <tbody>\n",
       "    <tr>\n",
       "      <th>0</th>\n",
       "      <td>2058851297473624</td>\n",
       "      <td>1</td>\n",
       "      <td>http://bmcbiol.biomedcentral.com/articles/10.1...</td>\n",
       "    </tr>\n",
       "    <tr>\n",
       "      <th>1</th>\n",
       "      <td>2058851297473624</td>\n",
       "      <td>0</td>\n",
       "      <td>http://bmcbiol.biomedcentral.com/articles/10.1...</td>\n",
       "    </tr>\n",
       "    <tr>\n",
       "      <th>2</th>\n",
       "      <td>2058851297473624</td>\n",
       "      <td>0</td>\n",
       "      <td>https://bmcbiol.biomedcentral.com/articles/10....</td>\n",
       "    </tr>\n",
       "    <tr>\n",
       "      <th>3</th>\n",
       "      <td>2058851297473624</td>\n",
       "      <td>0</td>\n",
       "      <td>https://bmcbiol.biomedcentral.com/articles/10....</td>\n",
       "    </tr>\n",
       "    <tr>\n",
       "      <th>4</th>\n",
       "      <td>2058851297473624</td>\n",
       "      <td>0</td>\n",
       "      <td>http://dx.doi.org/10.1186/1741-7007-10-51</td>\n",
       "    </tr>\n",
       "    <tr>\n",
       "      <th>5</th>\n",
       "      <td>2058851297473624</td>\n",
       "      <td>0</td>\n",
       "      <td>https://dx.doi.org/10.1186/1741-7007-10-51</td>\n",
       "    </tr>\n",
       "    <tr>\n",
       "      <th>6</th>\n",
       "      <td>2058851297473624</td>\n",
       "      <td>0</td>\n",
       "      <td>http://doi.org/10.1186/1741-7007-10-51</td>\n",
       "    </tr>\n",
       "    <tr>\n",
       "      <th>7</th>\n",
       "      <td>2058851297473624</td>\n",
       "      <td>0</td>\n",
       "      <td>https://doi.org/10.1186/1741-7007-10-51</td>\n",
       "    </tr>\n",
       "  </tbody>\n",
       "</table>\n",
       "</div>"
      ],
      "text/plain": [
       "             OG IDs  Shares                                                URL\n",
       "0  2058851297473624       1  http://bmcbiol.biomedcentral.com/articles/10.1...\n",
       "1  2058851297473624       0  http://bmcbiol.biomedcentral.com/articles/10.1...\n",
       "2  2058851297473624       0  https://bmcbiol.biomedcentral.com/articles/10....\n",
       "3  2058851297473624       0  https://bmcbiol.biomedcentral.com/articles/10....\n",
       "4  2058851297473624       0          http://dx.doi.org/10.1186/1741-7007-10-51\n",
       "5  2058851297473624       0         https://dx.doi.org/10.1186/1741-7007-10-51\n",
       "6  2058851297473624       0             http://doi.org/10.1186/1741-7007-10-51\n",
       "7  2058851297473624       0            https://doi.org/10.1186/1741-7007-10-51"
      ]
     },
     "execution_count": 19,
     "metadata": {},
     "output_type": "execute_result"
    }
   ],
   "source": [
    "url_base = \"bmcbiol.biomedcentral.com/articles/10.1186/1741-7007-10-51\"\n",
    "doi = \"10.1186/1741-7007-10-51\"\n",
    "\n",
    "urls = ['http://' + url_base,\n",
    "        'http://' + url_base + '/',\n",
    "        'https://' + url_base,\n",
    "        'https://' + url_base + '/',\n",
    "        'http://dx.doi.org/' + doi,\n",
    "        'https://dx.doi.org/' + doi,\n",
    "        'http://doi.org/' + doi,\n",
    "        'https://doi.org/' + doi]\n",
    "\n",
    "og_ids = []\n",
    "shares = []\n",
    "\n",
    "for url in urls:\n",
    "    try:\n",
    "        r = fb_graph.get_object(url, fields=\"og_object, engagement\")\n",
    "        og_ids.append(r['og_object']['id'])\n",
    "        shares.append(r['engagement']['share_count'])\n",
    "    except:\n",
    "        og_ids.append(None)\n",
    "        shares.append(None)\n",
    "    \n",
    "pd.DataFrame({'URL': urls,\n",
    "              'OG IDs': og_ids,\n",
    "              'Shares': shares})"
   ]
  },
  {
   "cell_type": "markdown",
   "metadata": {},
   "source": [
    "## 3. Differing results for FB API & Altmetric.com\n",
    "\n",
    "Example DOI: [10.1186/1741-7007-10-51](10.1186/1741-7007-10-51) which resolves to this URL https://bmcbiol.biomedcentral.com/articles/10.1186/1741-7007-10-51\n",
    "\n",
    "Detailed Altmetric results for the DOI: [Altmetric results](https://biomedcentral.altmetric.com/details/799209/facebook)\n",
    "\n",
    "http://www.biomedcentral.com/1741-7007/10/51/"
   ]
  },
  {
   "cell_type": "code",
   "execution_count": 3,
   "metadata": {},
   "outputs": [],
   "source": [
    "url = \"http://bmcbiol.biomedcentral.com/articles/10.1186/1741-7007-10-51\"\n",
    "doi = \"10.1186/1741-7007-10-51\""
   ]
  },
  {
   "cell_type": "markdown",
   "metadata": {},
   "source": [
    "### Results per Altmetric API"
   ]
  },
  {
   "cell_type": "code",
   "execution_count": 4,
   "metadata": {},
   "outputs": [
    {
     "name": "stdout",
     "output_type": "stream",
     "text": [
      "DOI and ULR have same altmetric_id: True\n",
      "FB shares: 38\n"
     ]
    }
   ],
   "source": [
    "alt_url = altmetric.uri(url, fetch=True)\n",
    "alt_doi = altmetric.doi(doi, fetch=True)\n",
    "\n",
    "print(\"DOI and ULR have same altmetric_id: {}\".format(alt_url['altmetric_id'] == alt_doi['altmetric_id']))\n",
    "\n",
    "print(\"FB shares: {}\".format(alt_doi['counts']['facebook']['posts_count']))"
   ]
  },
  {
   "cell_type": "markdown",
   "metadata": {},
   "source": [
    "### Results per Facebook API"
   ]
  },
  {
   "cell_type": "code",
   "execution_count": 5,
   "metadata": {},
   "outputs": [
    {
     "name": "stdout",
     "output_type": "stream",
     "text": [
      "DOI and ULR have same og_object_id: True\n",
      "FB shares for URL: 1\n",
      "FB shares for DOI: 0\n"
     ]
    }
   ],
   "source": [
    "fb_url = fb_graph.get_object(url, fields=\"engagement, og_object\")\n",
    "fb_doi = fb_graph.get_object(\"http://dx.doi.org/\" + doi, fields=\"engagement, og_object\")\n",
    "\n",
    "print(\"DOI and ULR have same og_object_id: {}\".format(fb_url['og_object']['id'] == fb_doi['og_object']['id']))\n",
    "\n",
    "print(\"FB shares for URL: {}\".format(fb_url['engagement']['share_count']))\n",
    "print(\"FB shares for DOI: {}\".format(fb_doi['engagement']['share_count']))"
   ]
  }
 ],
 "metadata": {
  "kernelspec": {
   "display_name": "altmetrics",
   "language": "python",
   "name": "altmetrics"
  },
  "language_info": {
   "codemirror_mode": {
    "name": "ipython",
    "version": 3
   },
   "file_extension": ".py",
   "mimetype": "text/x-python",
   "name": "python",
   "nbconvert_exporter": "python",
   "pygments_lexer": "ipython3",
   "version": "3.5.2"
  }
 },
 "nbformat": 4,
 "nbformat_minor": 2
}
