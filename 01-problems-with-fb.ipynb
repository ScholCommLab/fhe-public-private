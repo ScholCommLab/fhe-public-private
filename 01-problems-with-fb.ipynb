{
 "cells": [
  {
   "cell_type": "code",
   "execution_count": 3,
   "metadata": {},
   "outputs": [
    {
     "ename": "SyntaxError",
     "evalue": "invalid syntax (<ipython-input-3-e4886b7d165c>, line 7)",
     "output_type": "error",
     "traceback": [
      "\u001b[0;36m  File \u001b[0;32m\"<ipython-input-3-e4886b7d165c>\"\u001b[0;36m, line \u001b[0;32m7\u001b[0m\n\u001b[0;31m    from '../ATB.Altmetric' import Altmetric\u001b[0m\n\u001b[0m                          ^\u001b[0m\n\u001b[0;31mSyntaxError\u001b[0m\u001b[0;31m:\u001b[0m invalid syntax\n"
     ]
    }
   ],
   "source": [
    "import datetime, time, os, sys, re\n",
    "import json\n",
    "from pprint import pprint\n",
    "from time import sleep\n",
    "import pandas as pd\n",
    "\n",
    "from ../ATB.Altmetric import Altmetric\n",
    "from ../ATB.Facebook import Facebook\n",
    "from ../ATB.DBConnection import DBConnection\n",
    "from ../ATB.CrossRef import resolve_doi\n",
    "\n",
    "import argparse, configparser\n",
    "Config = configparser.ConfigParser()\n",
    "Config.read('config.cnf')\n",
    "\n",
    "# Load config\n",
    "FACEBOOK_APP_ID = Config.get('facebook', 'app_id')\n",
    "FACEBOOK_APP_SECRET = Config.get('facebook', 'app_secret')\n",
    "ALTMETRIC_KEY = Config.get('altmetric', 'key')"
   ]
  },
  {
   "cell_type": "code",
   "execution_count": null,
   "metadata": {},
   "outputs": [],
   "source": [
    "fb_graph = Facebook(FACEBOOK_APP_ID, FACEBOOK_APP_SECRET)\n",
    "altmetric = Altmetric(api_key = ALTMETRIC_KEY)"
   ]
  },
  {
   "cell_type": "markdown",
   "metadata": {},
   "source": [
    "# Problems\n",
    "\n",
    "Problems that I encountered are documented here"
   ]
  },
  {
   "cell_type": "markdown",
   "metadata": {},
   "source": [
    "## 1. Facebook API returning less shares than Altmetric.com\n",
    "\n",
    "Example DOI: [10.1186/1741-7007-10-51](10.1186/1741-7007-10-51) which resolves to this URL https://bmcbiol.biomedcentral.com/articles/10.1186/1741-7007-10-51\n",
    "\n",
    "Detailed Altmetric results for the DOI: [Altmetric results](https://biomedcentral.altmetric.com/details/799209/facebook)\n",
    "\n",
    "http://www.biomedcentral.com/1741-7007/10/51/"
   ]
  },
  {
   "cell_type": "code",
   "execution_count": 58,
   "metadata": {},
   "outputs": [],
   "source": [
    "url = \"http://bmcbiol.biomedcentral.com/articles/10.1186/1741-7007-10-51\"\n",
    "doi = \"10.1186/1741-7007-10-51\""
   ]
  },
  {
   "cell_type": "markdown",
   "metadata": {},
   "source": [
    "### Results per Altmetric API"
   ]
  },
  {
   "cell_type": "code",
   "execution_count": 53,
   "metadata": {},
   "outputs": [
    {
     "name": "stdout",
     "output_type": "stream",
     "text": [
      "DOI and ULR have same altmetric_id: True\n",
      "FB shares: 38\n"
     ]
    }
   ],
   "source": [
    "alt_url = altmetric.uri(url, fetch=True)\n",
    "alt_doi = altmetric.doi(doi, fetch=True)\n",
    "\n",
    "print(\"DOI and ULR have same altmetric_id: {}\".format(alt_url['altmetric_id'] == alt_doi['altmetric_id']))\n",
    "\n",
    "print(\"FB shares: {}\".format(alt_doi['counts']['facebook']['posts_count']))"
   ]
  },
  {
   "cell_type": "markdown",
   "metadata": {},
   "source": [
    "### Results per Facebook API"
   ]
  },
  {
   "cell_type": "code",
   "execution_count": 67,
   "metadata": {},
   "outputs": [
    {
     "name": "stdout",
     "output_type": "stream",
     "text": [
      "DOI and ULR have same og_object_id: False\n",
      "FB shares for URL: 1\n",
      "FB shares for DOI: 0\n"
     ]
    }
   ],
   "source": [
    "fb_url = fb_graph.get_object(url, fields=\"engagement, og_object\")\n",
    "fb_doi = fb_graph.get_object(\"http://dx.doi.org/\" + doi, fields=\"engagement, og_object\")\n",
    "\n",
    "print(\"DOI and ULR have same og_object_id: {}\".format(fb_url['og_object']['id'] == fb_doi['og_object']['id']))\n",
    "\n",
    "print(\"FB shares for URL: {}\".format(fb_url['engagement']['share_count']))\n",
    "print(\"FB shares for DOI: {}\".format(fb_doi['engagement']['share_count']))"
   ]
  },
  {
   "cell_type": "markdown",
   "metadata": {},
   "source": [
    "## 2. URL <-> OpenGraph object ID\n",
    "\n",
    "Not cool behaviour..."
   ]
  },
  {
   "cell_type": "code",
   "execution_count": 99,
   "metadata": {},
   "outputs": [
    {
     "name": "stdout",
     "output_type": "stream",
     "text": [
      "{'http://www.nature.com/news/the-future-of-dna-sequencing-1.22787': '1472429859490322',\n",
      " 'http://www.nature.com/news/the-future-of-dna-sequencing-1.22787/': '1446759318778508',\n",
      " 'https://www.nature.com/news/the-future-of-dna-sequencing-1.22787': '1472429859490322',\n",
      " 'https://www.nature.com/news/the-future-of-dna-sequencing-1.22787/': '1649534128454620'}\n",
      "{'http://doi.org/10.1038/550179a': None,\n",
      " 'http://dx.doi.org/10.1038/550179a': '1472429859490322',\n",
      " 'https://doi.org/10.1038/550179a': None,\n",
      " 'https://dx.doi.org/10.1038/550179a': None}\n"
     ]
    }
   ],
   "source": [
    "url_base = \"bmcbiol.biomedcentral.com/articles/10.1186/1741-7007-10-51\"\n",
    "doi = \"10.1186/1741-7007-10-51\"\n",
    "\n",
    "url_base = \"www.nature.com/news/the-future-of-dna-sequencing-1.22787\"\n",
    "doi = \"10.1038/550179a\"\n",
    "\n",
    "urls = ['http://' + url_base,\n",
    "        'http://' + url_base + '/',\n",
    "        'https://' + url_base,\n",
    "        'https://' + url_base + '/']\n",
    "\n",
    "dois = ['http://dx.doi.org/' + doi,\n",
    "        'https://dx.doi.org/' + doi,\n",
    "        'http://doi.org/' + doi,\n",
    "        'https://doi.org/' + doi]\n",
    "\n",
    "url_results = {}\n",
    "doi_results = {}\n",
    "\n",
    "for url in urls:\n",
    "    try:\n",
    "        url_results[url] = fb_graph.get_object(url, fields=\"og_object\")['og_object']['id']\n",
    "    except:\n",
    "        url_results[url] = None\n",
    "        \n",
    "for doi in dois:\n",
    "    try:\n",
    "        doi_results[doi] = fb_graph.get_object(doi, fields=\"og_object\")['og_object']['id']\n",
    "    except:\n",
    "        doi_results[doi] = None\n",
    "        \n",
    "pprint(url_results)\n",
    "pprint(doi_results)"
   ]
  },
  {
   "cell_type": "code",
   "execution_count": 100,
   "metadata": {},
   "outputs": [
    {
     "name": "stdout",
     "output_type": "stream",
     "text": [
      "{'http://bmcbiol.biomedcentral.com/articles/10.1186/1741-7007-10-51': '1246877015357759',\n",
      " 'http://bmcbiol.biomedcentral.com/articles/10.1186/1741-7007-10-51/': '2058851297473624',\n",
      " 'https://bmcbiol.biomedcentral.com/articles/10.1186/1741-7007-10-51': '2058851297473624',\n",
      " 'https://bmcbiol.biomedcentral.com/articles/10.1186/1741-7007-10-51/': '2058851297473624'}\n",
      "{'http://doi.org/10.1186/1741-7007-10-51': '2058851297473624',\n",
      " 'http://dx.doi.org/10.1186/1741-7007-10-51': '2058851297473624',\n",
      " 'https://doi.org/10.1186/1741-7007-10-51': '2058851297473624',\n",
      " 'https://dx.doi.org/10.1186/1741-7007-10-51': '2058851297473624'}\n"
     ]
    }
   ],
   "source": [
    "url_base = \"bmcbiol.biomedcentral.com/articles/10.1186/1741-7007-10-51\"\n",
    "doi = \"10.1186/1741-7007-10-51\"\n",
    "\n",
    "urls = ['http://' + url_base,\n",
    "        'http://' + url_base + '/',\n",
    "        'https://' + url_base,\n",
    "        'https://' + url_base + '/']\n",
    "\n",
    "dois = ['http://dx.doi.org/' + doi,\n",
    "        'https://dx.doi.org/' + doi,\n",
    "        'http://doi.org/' + doi,\n",
    "        'https://doi.org/' + doi]\n",
    "\n",
    "url_results = {}\n",
    "doi_results = {}\n",
    "\n",
    "for url in urls:\n",
    "    try:\n",
    "        url_results[url] = fb_graph.get_object(url, fields=\"og_object\")['og_object']['id']\n",
    "    except:\n",
    "        url_results[url] = None\n",
    "        \n",
    "for doi in dois:\n",
    "    try:\n",
    "        doi_results[doi] = fb_graph.get_object(doi, fields=\"og_object\")['og_object']['id']\n",
    "    except:\n",
    "        doi_results[doi] = None\n",
    "        \n",
    "pprint(url_results)\n",
    "pprint(doi_results)"
   ]
  }
 ],
 "metadata": {
  "kernelspec": {
   "display_name": "altmetrics",
   "language": "python",
   "name": "altmetrics"
  },
  "language_info": {
   "codemirror_mode": {
    "name": "ipython",
    "version": 3
   },
   "file_extension": ".py",
   "mimetype": "text/x-python",
   "name": "python",
   "nbconvert_exporter": "python",
   "pygments_lexer": "ipython3",
   "version": "3.5.2"
  }
 },
 "nbformat": 4,
 "nbformat_minor": 2
}
