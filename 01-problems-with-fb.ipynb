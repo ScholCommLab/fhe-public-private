{
 "cells": [
  {
   "cell_type": "markdown",
   "metadata": {},
   "source": [
    "# Hidden Engagement & Problems\n",
    "\n",
    "This is an attempt to document some of the problems that were encountered while gathering Facebook engagement data for scholarly articles based on their DOIs."
   ]
  },
  {
   "cell_type": "code",
   "execution_count": 1,
   "metadata": {},
   "outputs": [],
   "source": [
    "import datetime, time\n",
    "import json\n",
    "import urllib.parse\n",
    "import pandas as pd\n",
    "import configparser\n",
    "from pprint import pprint\n",
    "\n",
    "from ATB.ATB.Altmetric import Altmetric, AltmetricHTTPException\n",
    "from ATB.ATB.Facebook import Facebook\n",
    "from ATB.ATB.Utils import resolve_doi\n",
    "\n",
    "# Load config\n",
    "Config = configparser.ConfigParser()\n",
    "Config.read('config.cnf')\n",
    "FACEBOOK_APP_ID = Config.get('facebook', 'app_id')\n",
    "FACEBOOK_APP_SECRET = Config.get('facebook', 'app_secret')\n",
    "ALTMETRIC_KEY = Config.get('altmetric', 'key')"
   ]
  },
  {
   "cell_type": "code",
   "execution_count": 2,
   "metadata": {},
   "outputs": [
    {
     "name": "stdout",
     "output_type": "stream",
     "text": [
      "Generated access token: 287299458433880|6Y_ml710QWnU7HBYLWjaneoWVKU\n"
     ]
    }
   ],
   "source": [
    "fb_graph = Facebook(FACEBOOK_APP_ID, FACEBOOK_APP_SECRET)\n",
    "altmetric = Altmetric(api_key = ALTMETRIC_KEY)"
   ]
  },
  {
   "cell_type": "markdown",
   "metadata": {},
   "source": [
    "## 1. DOI <-> URL (Resolving DOIs)\n",
    "\n",
    "Problems while resolving DOIs. See this: https://www.crossref.org/blog/urls-and-dois-a-complicated-relationship/#"
   ]
  },
  {
   "cell_type": "markdown",
   "metadata": {},
   "source": [
    "## 2. URL <-> OpenGraph (Querying FB API)\n",
    "\n",
    "Quite a few problems here:"
   ]
  },
  {
   "cell_type": "code",
   "execution_count": 99,
   "metadata": {},
   "outputs": [
    {
     "name": "stdout",
     "output_type": "stream",
     "text": [
      "{'http://www.nature.com/news/the-future-of-dna-sequencing-1.22787': '1472429859490322',\n",
      " 'http://www.nature.com/news/the-future-of-dna-sequencing-1.22787/': '1446759318778508',\n",
      " 'https://www.nature.com/news/the-future-of-dna-sequencing-1.22787': '1472429859490322',\n",
      " 'https://www.nature.com/news/the-future-of-dna-sequencing-1.22787/': '1649534128454620'}\n",
      "{'http://doi.org/10.1038/550179a': None,\n",
      " 'http://dx.doi.org/10.1038/550179a': '1472429859490322',\n",
      " 'https://doi.org/10.1038/550179a': None,\n",
      " 'https://dx.doi.org/10.1038/550179a': None}\n"
     ]
    }
   ],
   "source": [
    "url_base = \"bmcbiol.biomedcentral.com/articles/10.1186/1741-7007-10-51\"\n",
    "doi = \"10.1186/1741-7007-10-51\"\n",
    "\n",
    "url_base = \"www.nature.com/news/the-future-of-dna-sequencing-1.22787\"\n",
    "doi = \"10.1038/550179a\"\n",
    "\n",
    "urls = ['http://' + url_base,\n",
    "        'http://' + url_base + '/',\n",
    "        'https://' + url_base,\n",
    "        'https://' + url_base + '/']\n",
    "\n",
    "dois = ['http://dx.doi.org/' + doi,\n",
    "        'https://dx.doi.org/' + doi,\n",
    "        'http://doi.org/' + doi,\n",
    "        'https://doi.org/' + doi]\n",
    "\n",
    "url_results = {}\n",
    "doi_results = {}\n",
    "\n",
    "for url in urls:\n",
    "    try:\n",
    "        url_results[url] = fb_graph.get_object(url, fields=\"og_object\")['og_object']['id']\n",
    "    except:\n",
    "        url_results[url] = None\n",
    "        \n",
    "for doi in dois:\n",
    "    try:\n",
    "        doi_results[doi] = fb_graph.get_object(doi, fields=\"og_object\")['og_object']['id']\n",
    "    except:\n",
    "        doi_results[doi] = None\n",
    "        \n",
    "pprint(url_results)\n",
    "pprint(doi_results)"
   ]
  },
  {
   "cell_type": "code",
   "execution_count": 100,
   "metadata": {},
   "outputs": [
    {
     "name": "stdout",
     "output_type": "stream",
     "text": [
      "{'http://bmcbiol.biomedcentral.com/articles/10.1186/1741-7007-10-51': '1246877015357759',\n",
      " 'http://bmcbiol.biomedcentral.com/articles/10.1186/1741-7007-10-51/': '2058851297473624',\n",
      " 'https://bmcbiol.biomedcentral.com/articles/10.1186/1741-7007-10-51': '2058851297473624',\n",
      " 'https://bmcbiol.biomedcentral.com/articles/10.1186/1741-7007-10-51/': '2058851297473624'}\n",
      "{'http://doi.org/10.1186/1741-7007-10-51': '2058851297473624',\n",
      " 'http://dx.doi.org/10.1186/1741-7007-10-51': '2058851297473624',\n",
      " 'https://doi.org/10.1186/1741-7007-10-51': '2058851297473624',\n",
      " 'https://dx.doi.org/10.1186/1741-7007-10-51': '2058851297473624'}\n"
     ]
    }
   ],
   "source": [
    "url_base = \"bmcbiol.biomedcentral.com/articles/10.1186/1741-7007-10-51\"\n",
    "doi = \"10.1186/1741-7007-10-51\"\n",
    "\n",
    "urls = ['http://' + url_base,\n",
    "        'http://' + url_base + '/',\n",
    "        'https://' + url_base,\n",
    "        'https://' + url_base + '/']\n",
    "\n",
    "dois = ['http://dx.doi.org/' + doi,\n",
    "        'https://dx.doi.org/' + doi,\n",
    "        'http://doi.org/' + doi,\n",
    "        'https://doi.org/' + doi]\n",
    "\n",
    "url_results = {}\n",
    "doi_results = {}\n",
    "\n",
    "for url in urls:\n",
    "    try:\n",
    "        url_results[url] = fb_graph.get_object(url, fields=\"og_object\")['og_object']['id']\n",
    "    except:\n",
    "        url_results[url] = None\n",
    "        \n",
    "for doi in dois:\n",
    "    try:\n",
    "        doi_results[doi] = fb_graph.get_object(doi, fields=\"og_object\")['og_object']['id']\n",
    "    except:\n",
    "        doi_results[doi] = None\n",
    "        \n",
    "pprint(url_results)\n",
    "pprint(doi_results)"
   ]
  },
  {
   "cell_type": "markdown",
   "metadata": {},
   "source": [
    "## 3. Differing results for FB API & Altmetric.com\n",
    "\n",
    "Example DOI: [10.1186/1741-7007-10-51](10.1186/1741-7007-10-51) which resolves to this URL https://bmcbiol.biomedcentral.com/articles/10.1186/1741-7007-10-51\n",
    "\n",
    "Detailed Altmetric results for the DOI: [Altmetric results](https://biomedcentral.altmetric.com/details/799209/facebook)\n",
    "\n",
    "http://www.biomedcentral.com/1741-7007/10/51/"
   ]
  },
  {
   "cell_type": "code",
   "execution_count": 3,
   "metadata": {},
   "outputs": [],
   "source": [
    "url = \"http://bmcbiol.biomedcentral.com/articles/10.1186/1741-7007-10-51\"\n",
    "doi = \"10.1186/1741-7007-10-51\""
   ]
  },
  {
   "cell_type": "markdown",
   "metadata": {},
   "source": [
    "### Results per Altmetric API"
   ]
  },
  {
   "cell_type": "code",
   "execution_count": 4,
   "metadata": {},
   "outputs": [
    {
     "name": "stdout",
     "output_type": "stream",
     "text": [
      "DOI and ULR have same altmetric_id: True\n",
      "FB shares: 38\n"
     ]
    }
   ],
   "source": [
    "alt_url = altmetric.uri(url, fetch=True)\n",
    "alt_doi = altmetric.doi(doi, fetch=True)\n",
    "\n",
    "print(\"DOI and ULR have same altmetric_id: {}\".format(alt_url['altmetric_id'] == alt_doi['altmetric_id']))\n",
    "\n",
    "print(\"FB shares: {}\".format(alt_doi['counts']['facebook']['posts_count']))"
   ]
  },
  {
   "cell_type": "markdown",
   "metadata": {},
   "source": [
    "### Results per Facebook API"
   ]
  },
  {
   "cell_type": "code",
   "execution_count": 5,
   "metadata": {},
   "outputs": [
    {
     "name": "stdout",
     "output_type": "stream",
     "text": [
      "DOI and ULR have same og_object_id: True\n",
      "FB shares for URL: 1\n",
      "FB shares for DOI: 0\n"
     ]
    }
   ],
   "source": [
    "fb_url = fb_graph.get_object(url, fields=\"engagement, og_object\")\n",
    "fb_doi = fb_graph.get_object(\"http://dx.doi.org/\" + doi, fields=\"engagement, og_object\")\n",
    "\n",
    "print(\"DOI and ULR have same og_object_id: {}\".format(fb_url['og_object']['id'] == fb_doi['og_object']['id']))\n",
    "\n",
    "print(\"FB shares for URL: {}\".format(fb_url['engagement']['share_count']))\n",
    "print(\"FB shares for DOI: {}\".format(fb_doi['engagement']['share_count']))"
   ]
  }
 ],
 "metadata": {
  "kernelspec": {
   "display_name": "altmetrics",
   "language": "python",
   "name": "altmetrics"
  },
  "language_info": {
   "codemirror_mode": {
    "name": "ipython",
    "version": 3
   },
   "file_extension": ".py",
   "mimetype": "text/x-python",
   "name": "python",
   "nbconvert_exporter": "python",
   "pygments_lexer": "ipython3",
   "version": "3.5.2"
  }
 },
 "nbformat": 4,
 "nbformat_minor": 2
}
