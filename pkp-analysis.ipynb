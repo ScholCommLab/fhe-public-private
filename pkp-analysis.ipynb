{
 "cells": [
  {
   "cell_type": "code",
   "execution_count": 1,
   "metadata": {},
   "outputs": [
    {
     "data": {
      "application/vnd.jupyter.widget-view+json": {
       "model_id": "51a9320b23fb40fdac516f5a672aa820",
       "version_major": 2,
       "version_minor": 0
      },
      "text/html": [
       "<p>Failed to display Jupyter Widget of type <code>HBox</code>.</p>\n",
       "<p>\n",
       "  If you're reading this message in the Jupyter Notebook or JupyterLab Notebook, it may mean\n",
       "  that the widgets JavaScript is still loading. If this message persists, it\n",
       "  likely means that the widgets JavaScript library is either not installed or\n",
       "  not enabled. See the <a href=\"https://ipywidgets.readthedocs.io/en/stable/user_install.html\">Jupyter\n",
       "  Widgets Documentation</a> for setup instructions.\n",
       "</p>\n",
       "<p>\n",
       "  If you're reading this message in another frontend (for example, a static\n",
       "  rendering on GitHub or <a href=\"https://nbviewer.jupyter.org/\">NBViewer</a>),\n",
       "  it may mean that your frontend doesn't currently support widgets.\n",
       "</p>\n"
      ],
      "text/plain": [
       "HBox(children=(IntProgress(value=1, bar_style='info', max=1), HTML(value='')))"
      ]
     },
     "metadata": {},
     "output_type": "display_data"
    },
    {
     "name": "stdout",
     "output_type": "stream",
     "text": [
      "\n"
     ]
    }
   ],
   "source": [
    "%matplotlib inline\n",
    "\n",
    "import json\n",
    "\n",
    "import pandas as pd\n",
    "import numpy as np\n",
    "import matplotlib.pyplot as plt\n",
    "import seaborn as sns\n",
    "\n",
    "from pathlib import Path\n",
    "\n",
    "from tqdm import tqdm, tqdm_notebook"
   ]
  },
  {
   "cell_type": "code",
   "execution_count": 112,
   "metadata": {},
   "outputs": [
    {
     "data": {
      "application/vnd.jupyter.widget-view+json": {
       "model_id": "4b5c937cb52f432f97f2420dbb64f027",
       "version_major": 2,
       "version_minor": 0
      },
      "text/html": [
       "<p>Failed to display Jupyter Widget of type <code>HBox</code>.</p>\n",
       "<p>\n",
       "  If you're reading this message in the Jupyter Notebook or JupyterLab Notebook, it may mean\n",
       "  that the widgets JavaScript is still loading. If this message persists, it\n",
       "  likely means that the widgets JavaScript library is either not installed or\n",
       "  not enabled. See the <a href=\"https://ipywidgets.readthedocs.io/en/stable/user_install.html\">Jupyter\n",
       "  Widgets Documentation</a> for setup instructions.\n",
       "</p>\n",
       "<p>\n",
       "  If you're reading this message in another frontend (for example, a static\n",
       "  rendering on GitHub or <a href=\"https://nbviewer.jupyter.org/\">NBViewer</a>),\n",
       "  it may mean that your frontend doesn't currently support widgets.\n",
       "</p>\n"
      ],
      "text/plain": [
       "HBox(children=(IntProgress(value=1, bar_style='info', max=1), HTML(value='')))"
      ]
     },
     "metadata": {},
     "output_type": "display_data"
    },
    {
     "name": "stdout",
     "output_type": "stream",
     "text": [
      "\n"
     ]
    }
   ],
   "source": [
    "tqdm_notebook().pandas()\n",
    "\n",
    "pd.set_option('precision',2)\n",
    "\n",
    "sns.set_style(\"darkgrid\")"
   ]
  },
  {
   "cell_type": "code",
   "execution_count": 2,
   "metadata": {},
   "outputs": [],
   "source": [
    "data_folder = Path(\"data/pkp/\")\n",
    "input_file = data_folder / \"PKP_20171220.csv\""
   ]
  },
  {
   "cell_type": "code",
   "execution_count": 213,
   "metadata": {},
   "outputs": [],
   "source": [
    "def extract_fb_shares(df):\n",
    "    result_cols = [\n",
    "        'pkp', 'pkp_ogid',\n",
    "        'pmid', 'pmid_ogid',\n",
    "        'pmc', 'pmc_ogid',\n",
    "        'doi', 'doi_ogid',\n",
    "        'total'\n",
    "    ]\n",
    "    shares = pd.DataFrame(columns=result_cols, index=set(df.index))\n",
    "    \n",
    "    rows = list(df[df.og_obj.notnull()].itertuples())\n",
    "    for row in tqdm_notebook(rows, total=len(rows)):\n",
    "        shares.loc[row.Index, row.type.split(\"_\")[0] + \"_ogid\"] = str(json.loads(row.og_obj)['id'])\n",
    "        shares.loc[row.Index, row.type.split(\"_\")[0]] = float(json.loads(row.og_eng)['share_count'])\n",
    "        \n",
    "    return shares\n",
    "\n",
    "def extract_am_shares(df):\n",
    "    result_cols = ['am', 'am_id']\n",
    "    shares = pd.DataFrame(columns=result_cols, index=set(df.index))\n",
    "    \n",
    "    rows = list(df[df.am_resp.notnull()].itertuples())\n",
    "    for row in tqdm_notebook(rows, total=len(rows)):\n",
    "        if pd.notnull(row.am_resp):\n",
    "            try:\n",
    "                shares.loc[row.Index, \"am_id\"] = str(json.loads(row.am_resp)['altmetric_id'])\n",
    "            except:\n",
    "                shares.loc[row.Index, \"am_id\"] = None\n",
    "            try:\n",
    "                shares.loc[row.Index, \"am\"] =  float(json.loads(row.am_resp)['counts']['facebook']['posts_count'])\n",
    "            except:\n",
    "                shares.loc[row.Index, \"am\"] = 0.0\n",
    "        #if pd.notnull(row.og_eng):\n",
    "        #    shares.loc[row.doi, row.type.split(\"_\")[0]] =  int(json.loads(row.og_eng)['share_count'])\n",
    "        \n",
    "    return shares"
   ]
  },
  {
   "cell_type": "code",
   "execution_count": 214,
   "metadata": {},
   "outputs": [],
   "source": [
    "df_input = pd.read_csv(input_file,\n",
    "                       index_col=\"doi\",\n",
    "                       parse_dates=[\"date\"]).drop_duplicates()\n",
    "df_input['year'] = df_input.date.apply(lambda x: x.year)\n",
    "\n",
    "am_results = pd.read_csv(data_folder / \"am_responses_filtered.csv\",\n",
    "                         index_col=\"doi\",\n",
    "                         parse_dates=['am_ts'])\n",
    "fb_results = pd.read_csv(data_folder / \"fb_responses_filtered.csv\",\n",
    "                         index_col=\"doi\",\n",
    "                         parse_dates=['ts'],\n",
    "                         dtype={'doi': str, 'type': str, 'url': str, 'og_obj': str, 'og_eng': str, 'og_err': str})\n",
    "am_results = am_results.replace(\"null\", np.nan)"
   ]
  },
  {
   "cell_type": "code",
   "execution_count": 215,
   "metadata": {},
   "outputs": [
    {
     "data": {
      "application/vnd.jupyter.widget-view+json": {
       "model_id": "7673b51c9c734ea0a0fef68fb5857615",
       "version_major": 2,
       "version_minor": 0
      },
      "text/html": [
       "<p>Failed to display Jupyter Widget of type <code>HBox</code>.</p>\n",
       "<p>\n",
       "  If you're reading this message in the Jupyter Notebook or JupyterLab Notebook, it may mean\n",
       "  that the widgets JavaScript is still loading. If this message persists, it\n",
       "  likely means that the widgets JavaScript library is either not installed or\n",
       "  not enabled. See the <a href=\"https://ipywidgets.readthedocs.io/en/stable/user_install.html\">Jupyter\n",
       "  Widgets Documentation</a> for setup instructions.\n",
       "</p>\n",
       "<p>\n",
       "  If you're reading this message in another frontend (for example, a static\n",
       "  rendering on GitHub or <a href=\"https://nbviewer.jupyter.org/\">NBViewer</a>),\n",
       "  it may mean that your frontend doesn't currently support widgets.\n",
       "</p>\n"
      ],
      "text/plain": [
       "HBox(children=(IntProgress(value=0, max=63027), HTML(value='')))"
      ]
     },
     "metadata": {},
     "output_type": "display_data"
    },
    {
     "name": "stdout",
     "output_type": "stream",
     "text": [
      "\n"
     ]
    },
    {
     "data": {
      "application/vnd.jupyter.widget-view+json": {
       "model_id": "b7fe89c01c1048889df3d6e4f49d441e",
       "version_major": 2,
       "version_minor": 0
      },
      "text/html": [
       "<p>Failed to display Jupyter Widget of type <code>HBox</code>.</p>\n",
       "<p>\n",
       "  If you're reading this message in the Jupyter Notebook or JupyterLab Notebook, it may mean\n",
       "  that the widgets JavaScript is still loading. If this message persists, it\n",
       "  likely means that the widgets JavaScript library is either not installed or\n",
       "  not enabled. See the <a href=\"https://ipywidgets.readthedocs.io/en/stable/user_install.html\">Jupyter\n",
       "  Widgets Documentation</a> for setup instructions.\n",
       "</p>\n",
       "<p>\n",
       "  If you're reading this message in another frontend (for example, a static\n",
       "  rendering on GitHub or <a href=\"https://nbviewer.jupyter.org/\">NBViewer</a>),\n",
       "  it may mean that your frontend doesn't currently support widgets.\n",
       "</p>\n"
      ],
      "text/plain": [
       "HBox(children=(IntProgress(value=0, max=15953), HTML(value='')))"
      ]
     },
     "metadata": {},
     "output_type": "display_data"
    },
    {
     "name": "stdout",
     "output_type": "stream",
     "text": [
      "\n"
     ]
    }
   ],
   "source": [
    "fb_shares = extract_fb_shares(fb_results)\n",
    "am_shares = extract_am_shares(am_results)"
   ]
  },
  {
   "cell_type": "code",
   "execution_count": 216,
   "metadata": {},
   "outputs": [],
   "source": [
    "fb_shares[['pkp', 'pmid', 'doi', 'pmc']] = fb_shares[['pkp', 'pmid', 'doi', 'pmc']].astype(float)\n",
    "am_shares['am'] = am_shares['am'].astype(float)"
   ]
  },
  {
   "cell_type": "code",
   "execution_count": 218,
   "metadata": {},
   "outputs": [
    {
     "name": "stdout",
     "output_type": "stream",
     "text": [
      "Duplicate pkp_ogid IDs: 303\n",
      "Duplicate pmc_ogid IDs: 0\n",
      "Duplicate pmid_ogid IDs: 0\n",
      "Duplicate doi_ogid IDs: 41\n"
     ]
    }
   ],
   "source": [
    "# Some URLs have been assigned to the same Facebook OG IDs\n",
    "# Those share numbers should be investigated in more detail\n",
    "# but for now they are simply being overwritten with NaNs\n",
    "\n",
    "ids = ['pkp_ogid', 'pmc_ogid', 'pmid_ogid', 'doi_ogid']\n",
    "\n",
    "for _ in ids:\n",
    "    bad_ones = fb_shares[(~fb_shares[_].isnull() & fb_shares.duplicated(subset=[_], keep=False))].index\n",
    "    fb_shares.loc[bad_ones, _.split(\"_\")[0]] = np.nan\n",
    "    print(\"Duplicate {} IDs: {}\".format(_, len(bad_ones)))"
   ]
  },
  {
   "cell_type": "code",
   "execution_count": 219,
   "metadata": {},
   "outputs": [],
   "source": [
    "# Sum of the individual FB shares (doi, pkp, pmc, pmid) but taking\n",
    "# into account that some URLs are identical for resolved DOI and\n",
    "# original PKP ones.\n",
    "# \n",
    "# DOI == PKP: sum(pkp, pmc, pmid)\n",
    "# DOI != PKP: sum(pkp, doi, pmc, pmid)\n",
    "\n",
    "x = fb_results[fb_results.type.isin(['pkp_url', 'doi_url'])][['url']].copy()\n",
    "x['netloc'] = x.url.apply(lambda x: urllib.parse.urlparse(x).netloc)\n",
    "x['path'] = x.url.apply(lambda x: urllib.parse.urlparse(x).path)\n",
    "doi_pkp_identical = x[x[['netloc', 'path']].duplicated()].index\n",
    "\n",
    "fb_shares['fb'] = fb_shares[['pkp', 'pmc', 'pmid', 'doi']].sum(axis=1)\n",
    "fb_shares.loc[doi_pkp_identical, 'fb'] = fb_shares.loc[doi_pkp_identical, ['pkp', 'pmc', 'pmid']].sum(axis=1)"
   ]
  },
  {
   "cell_type": "code",
   "execution_count": 243,
   "metadata": {},
   "outputs": [],
   "source": [
    "# Merge FB shares, AM shares, publication years, and the diff between FB & AM\n",
    "\n",
    "shares = fb_shares.merge(am_shares, left_index=True, right_index=True)\n",
    "shares = shares.merge(df_input[['year']], left_index=True, right_index=True)\n",
    "shares['diff'] = shares['fb'] - shares['am']"
   ]
  },
  {
   "cell_type": "code",
   "execution_count": 248,
   "metadata": {},
   "outputs": [
    {
     "name": "stdout",
     "output_type": "stream",
     "text": [
      "Total number of removed rows: 28\n"
     ]
    }
   ],
   "source": [
    "# Also restrict to a certain timespan\n",
    "\n",
    "min_year = 2000\n",
    "max_year = 2017\n",
    "smaller = shares[shares['year'].between(min_year, max_year)]\n",
    "print(\"Total number of removed rows: {}\".format(len(shares) - len(smaller)))\n",
    "shares = smaller"
   ]
  },
  {
   "cell_type": "code",
   "execution_count": 249,
   "metadata": {},
   "outputs": [
    {
     "data": {
      "text/html": [
       "<div>\n",
       "<style>\n",
       "    .dataframe thead tr:only-child th {\n",
       "        text-align: right;\n",
       "    }\n",
       "\n",
       "    .dataframe thead th {\n",
       "        text-align: left;\n",
       "    }\n",
       "\n",
       "    .dataframe tbody tr th {\n",
       "        vertical-align: top;\n",
       "    }\n",
       "</style>\n",
       "<table border=\"1\" class=\"dataframe\">\n",
       "  <thead>\n",
       "    <tr style=\"text-align: right;\">\n",
       "      <th></th>\n",
       "      <th>pkp</th>\n",
       "      <th>pmid</th>\n",
       "      <th>pmc</th>\n",
       "      <th>doi</th>\n",
       "      <th>fb</th>\n",
       "      <th>am</th>\n",
       "      <th>year</th>\n",
       "      <th>diff</th>\n",
       "    </tr>\n",
       "  </thead>\n",
       "  <tbody>\n",
       "    <tr>\n",
       "      <th>count</th>\n",
       "      <td>31982.00</td>\n",
       "      <td>391.00</td>\n",
       "      <td>3742.00</td>\n",
       "      <td>22655.00</td>\n",
       "      <td>53251.00</td>\n",
       "      <td>15990.00</td>\n",
       "      <td>244630.00</td>\n",
       "      <td>10214.00</td>\n",
       "    </tr>\n",
       "    <tr>\n",
       "      <th>mean</th>\n",
       "      <td>0.72</td>\n",
       "      <td>2.75</td>\n",
       "      <td>0.74</td>\n",
       "      <td>0.72</td>\n",
       "      <td>0.81</td>\n",
       "      <td>0.76</td>\n",
       "      <td>2012.51</td>\n",
       "      <td>1.35</td>\n",
       "    </tr>\n",
       "    <tr>\n",
       "      <th>std</th>\n",
       "      <td>11.05</td>\n",
       "      <td>25.04</td>\n",
       "      <td>8.52</td>\n",
       "      <td>3.75</td>\n",
       "      <td>11.14</td>\n",
       "      <td>3.08</td>\n",
       "      <td>4.05</td>\n",
       "      <td>21.75</td>\n",
       "    </tr>\n",
       "    <tr>\n",
       "      <th>min</th>\n",
       "      <td>0.00</td>\n",
       "      <td>0.00</td>\n",
       "      <td>0.00</td>\n",
       "      <td>0.00</td>\n",
       "      <td>0.00</td>\n",
       "      <td>0.00</td>\n",
       "      <td>2000.00</td>\n",
       "      <td>-70.00</td>\n",
       "    </tr>\n",
       "    <tr>\n",
       "      <th>25%</th>\n",
       "      <td>0.00</td>\n",
       "      <td>0.00</td>\n",
       "      <td>0.00</td>\n",
       "      <td>0.00</td>\n",
       "      <td>0.00</td>\n",
       "      <td>0.00</td>\n",
       "      <td>2011.00</td>\n",
       "      <td>0.00</td>\n",
       "    </tr>\n",
       "    <tr>\n",
       "      <th>50%</th>\n",
       "      <td>0.00</td>\n",
       "      <td>0.00</td>\n",
       "      <td>0.00</td>\n",
       "      <td>0.00</td>\n",
       "      <td>0.00</td>\n",
       "      <td>0.00</td>\n",
       "      <td>2013.00</td>\n",
       "      <td>0.00</td>\n",
       "    </tr>\n",
       "    <tr>\n",
       "      <th>75%</th>\n",
       "      <td>0.00</td>\n",
       "      <td>1.00</td>\n",
       "      <td>0.00</td>\n",
       "      <td>1.00</td>\n",
       "      <td>1.00</td>\n",
       "      <td>1.00</td>\n",
       "      <td>2016.00</td>\n",
       "      <td>1.00</td>\n",
       "    </tr>\n",
       "    <tr>\n",
       "      <th>max</th>\n",
       "      <td>1847.00</td>\n",
       "      <td>396.00</td>\n",
       "      <td>303.00</td>\n",
       "      <td>310.00</td>\n",
       "      <td>2081.00</td>\n",
       "      <td>276.00</td>\n",
       "      <td>2017.00</td>\n",
       "      <td>1805.00</td>\n",
       "    </tr>\n",
       "  </tbody>\n",
       "</table>\n",
       "</div>"
      ],
      "text/plain": [
       "            pkp    pmid      pmc       doi        fb        am       year  \\\n",
       "count  31982.00  391.00  3742.00  22655.00  53251.00  15990.00  244630.00   \n",
       "mean       0.72    2.75     0.74      0.72      0.81      0.76    2012.51   \n",
       "std       11.05   25.04     8.52      3.75     11.14      3.08       4.05   \n",
       "min        0.00    0.00     0.00      0.00      0.00      0.00    2000.00   \n",
       "25%        0.00    0.00     0.00      0.00      0.00      0.00    2011.00   \n",
       "50%        0.00    0.00     0.00      0.00      0.00      0.00    2013.00   \n",
       "75%        0.00    1.00     0.00      1.00      1.00      1.00    2016.00   \n",
       "max     1847.00  396.00   303.00    310.00   2081.00    276.00    2017.00   \n",
       "\n",
       "           diff  \n",
       "count  10214.00  \n",
       "mean       1.35  \n",
       "std       21.75  \n",
       "min      -70.00  \n",
       "25%        0.00  \n",
       "50%        0.00  \n",
       "75%        1.00  \n",
       "max     1805.00  "
      ]
     },
     "execution_count": 249,
     "metadata": {},
     "output_type": "execute_result"
    }
   ],
   "source": [
    "shares.describe()"
   ]
  },
  {
   "cell_type": "code",
   "execution_count": 269,
   "metadata": {},
   "outputs": [
    {
     "data": {
      "text/html": [
       "<div>\n",
       "<style>\n",
       "    .dataframe thead tr:only-child th {\n",
       "        text-align: right;\n",
       "    }\n",
       "\n",
       "    .dataframe thead th {\n",
       "        text-align: left;\n",
       "    }\n",
       "\n",
       "    .dataframe tbody tr th {\n",
       "        vertical-align: top;\n",
       "    }\n",
       "</style>\n",
       "<table border=\"1\" class=\"dataframe\">\n",
       "  <thead>\n",
       "    <tr style=\"text-align: right;\">\n",
       "      <th></th>\n",
       "      <th>pkp</th>\n",
       "      <th>pmid</th>\n",
       "      <th>pmc</th>\n",
       "      <th>doi</th>\n",
       "      <th>total</th>\n",
       "      <th>fb</th>\n",
       "      <th>am</th>\n",
       "      <th>year</th>\n",
       "      <th>diff</th>\n",
       "    </tr>\n",
       "  </thead>\n",
       "  <tbody>\n",
       "    <tr>\n",
       "      <th>count</th>\n",
       "      <td>244630.00</td>\n",
       "      <td>2.45e+05</td>\n",
       "      <td>244630.00</td>\n",
       "      <td>244630.00</td>\n",
       "      <td>244630.0</td>\n",
       "      <td>244630.00</td>\n",
       "      <td>244630.00</td>\n",
       "      <td>244630.00</td>\n",
       "      <td>244630.00</td>\n",
       "    </tr>\n",
       "    <tr>\n",
       "      <th>mean</th>\n",
       "      <td>0.09</td>\n",
       "      <td>4.39e-03</td>\n",
       "      <td>0.01</td>\n",
       "      <td>0.07</td>\n",
       "      <td>0.0</td>\n",
       "      <td>0.18</td>\n",
       "      <td>0.05</td>\n",
       "      <td>2012.51</td>\n",
       "      <td>0.06</td>\n",
       "    </tr>\n",
       "    <tr>\n",
       "      <th>std</th>\n",
       "      <td>4.00</td>\n",
       "      <td>1.01e+00</td>\n",
       "      <td>1.06</td>\n",
       "      <td>1.16</td>\n",
       "      <td>0.0</td>\n",
       "      <td>5.21</td>\n",
       "      <td>0.81</td>\n",
       "      <td>4.05</td>\n",
       "      <td>4.45</td>\n",
       "    </tr>\n",
       "    <tr>\n",
       "      <th>min</th>\n",
       "      <td>0.00</td>\n",
       "      <td>0.00e+00</td>\n",
       "      <td>0.00</td>\n",
       "      <td>0.00</td>\n",
       "      <td>0.0</td>\n",
       "      <td>0.00</td>\n",
       "      <td>0.00</td>\n",
       "      <td>2000.00</td>\n",
       "      <td>-70.00</td>\n",
       "    </tr>\n",
       "    <tr>\n",
       "      <th>25%</th>\n",
       "      <td>0.00</td>\n",
       "      <td>0.00e+00</td>\n",
       "      <td>0.00</td>\n",
       "      <td>0.00</td>\n",
       "      <td>0.0</td>\n",
       "      <td>0.00</td>\n",
       "      <td>0.00</td>\n",
       "      <td>2011.00</td>\n",
       "      <td>0.00</td>\n",
       "    </tr>\n",
       "    <tr>\n",
       "      <th>50%</th>\n",
       "      <td>0.00</td>\n",
       "      <td>0.00e+00</td>\n",
       "      <td>0.00</td>\n",
       "      <td>0.00</td>\n",
       "      <td>0.0</td>\n",
       "      <td>0.00</td>\n",
       "      <td>0.00</td>\n",
       "      <td>2013.00</td>\n",
       "      <td>0.00</td>\n",
       "    </tr>\n",
       "    <tr>\n",
       "      <th>75%</th>\n",
       "      <td>0.00</td>\n",
       "      <td>0.00e+00</td>\n",
       "      <td>0.00</td>\n",
       "      <td>0.00</td>\n",
       "      <td>0.0</td>\n",
       "      <td>0.00</td>\n",
       "      <td>0.00</td>\n",
       "      <td>2016.00</td>\n",
       "      <td>0.00</td>\n",
       "    </tr>\n",
       "    <tr>\n",
       "      <th>max</th>\n",
       "      <td>1847.00</td>\n",
       "      <td>3.96e+02</td>\n",
       "      <td>303.00</td>\n",
       "      <td>310.00</td>\n",
       "      <td>0.0</td>\n",
       "      <td>2081.00</td>\n",
       "      <td>276.00</td>\n",
       "      <td>2017.00</td>\n",
       "      <td>1805.00</td>\n",
       "    </tr>\n",
       "  </tbody>\n",
       "</table>\n",
       "</div>"
      ],
      "text/plain": [
       "             pkp      pmid        pmc        doi     total         fb  \\\n",
       "count  244630.00  2.45e+05  244630.00  244630.00  244630.0  244630.00   \n",
       "mean        0.09  4.39e-03       0.01       0.07       0.0       0.18   \n",
       "std         4.00  1.01e+00       1.06       1.16       0.0       5.21   \n",
       "min         0.00  0.00e+00       0.00       0.00       0.0       0.00   \n",
       "25%         0.00  0.00e+00       0.00       0.00       0.0       0.00   \n",
       "50%         0.00  0.00e+00       0.00       0.00       0.0       0.00   \n",
       "75%         0.00  0.00e+00       0.00       0.00       0.0       0.00   \n",
       "max      1847.00  3.96e+02     303.00     310.00       0.0    2081.00   \n",
       "\n",
       "              am       year       diff  \n",
       "count  244630.00  244630.00  244630.00  \n",
       "mean        0.05    2012.51       0.06  \n",
       "std         0.81       4.05       4.45  \n",
       "min         0.00    2000.00     -70.00  \n",
       "25%         0.00    2011.00       0.00  \n",
       "50%         0.00    2013.00       0.00  \n",
       "75%         0.00    2016.00       0.00  \n",
       "max       276.00    2017.00    1805.00  "
      ]
     },
     "execution_count": 269,
     "metadata": {},
     "output_type": "execute_result"
    }
   ],
   "source": [
    "shares.fillna(0).describe()"
   ]
  },
  {
   "cell_type": "code",
   "execution_count": 251,
   "metadata": {},
   "outputs": [
    {
     "data": {
      "text/html": [
       "<div>\n",
       "<style>\n",
       "    .dataframe thead tr:only-child th {\n",
       "        text-align: right;\n",
       "    }\n",
       "\n",
       "    .dataframe thead th {\n",
       "        text-align: left;\n",
       "    }\n",
       "\n",
       "    .dataframe tbody tr th {\n",
       "        vertical-align: top;\n",
       "    }\n",
       "</style>\n",
       "<table border=\"1\" class=\"dataframe\">\n",
       "  <thead>\n",
       "    <tr style=\"text-align: right;\">\n",
       "      <th></th>\n",
       "      <th>pkp</th>\n",
       "      <th>pmid</th>\n",
       "      <th>pmc</th>\n",
       "      <th>doi</th>\n",
       "      <th>fb</th>\n",
       "      <th>am</th>\n",
       "      <th>year</th>\n",
       "      <th>diff</th>\n",
       "    </tr>\n",
       "  </thead>\n",
       "  <tbody>\n",
       "    <tr>\n",
       "      <th>count</th>\n",
       "      <td>25.00</td>\n",
       "      <td>25.0</td>\n",
       "      <td>25.00</td>\n",
       "      <td>25.00</td>\n",
       "      <td>25.00</td>\n",
       "      <td>24.00</td>\n",
       "      <td>25.00</td>\n",
       "      <td>24.00</td>\n",
       "    </tr>\n",
       "    <tr>\n",
       "      <th>mean</th>\n",
       "      <td>95.88</td>\n",
       "      <td>19.4</td>\n",
       "      <td>20.44</td>\n",
       "      <td>2.76</td>\n",
       "      <td>138.48</td>\n",
       "      <td>27.62</td>\n",
       "      <td>2014.24</td>\n",
       "      <td>116.50</td>\n",
       "    </tr>\n",
       "    <tr>\n",
       "      <th>std</th>\n",
       "      <td>372.25</td>\n",
       "      <td>79.6</td>\n",
       "      <td>64.61</td>\n",
       "      <td>7.79</td>\n",
       "      <td>458.93</td>\n",
       "      <td>61.80</td>\n",
       "      <td>1.64</td>\n",
       "      <td>410.79</td>\n",
       "    </tr>\n",
       "    <tr>\n",
       "      <th>min</th>\n",
       "      <td>0.00</td>\n",
       "      <td>0.0</td>\n",
       "      <td>0.00</td>\n",
       "      <td>0.00</td>\n",
       "      <td>1.00</td>\n",
       "      <td>0.00</td>\n",
       "      <td>2011.00</td>\n",
       "      <td>-70.00</td>\n",
       "    </tr>\n",
       "    <tr>\n",
       "      <th>25%</th>\n",
       "      <td>1.00</td>\n",
       "      <td>0.0</td>\n",
       "      <td>0.00</td>\n",
       "      <td>0.00</td>\n",
       "      <td>3.00</td>\n",
       "      <td>1.00</td>\n",
       "      <td>2013.00</td>\n",
       "      <td>0.75</td>\n",
       "    </tr>\n",
       "    <tr>\n",
       "      <th>50%</th>\n",
       "      <td>2.00</td>\n",
       "      <td>0.0</td>\n",
       "      <td>2.00</td>\n",
       "      <td>0.00</td>\n",
       "      <td>7.00</td>\n",
       "      <td>2.00</td>\n",
       "      <td>2014.00</td>\n",
       "      <td>2.00</td>\n",
       "    </tr>\n",
       "    <tr>\n",
       "      <th>75%</th>\n",
       "      <td>9.00</td>\n",
       "      <td>0.0</td>\n",
       "      <td>4.00</td>\n",
       "      <td>1.00</td>\n",
       "      <td>20.00</td>\n",
       "      <td>10.00</td>\n",
       "      <td>2016.00</td>\n",
       "      <td>11.00</td>\n",
       "    </tr>\n",
       "    <tr>\n",
       "      <th>max</th>\n",
       "      <td>1847.00</td>\n",
       "      <td>396.0</td>\n",
       "      <td>303.00</td>\n",
       "      <td>33.00</td>\n",
       "      <td>2081.00</td>\n",
       "      <td>276.00</td>\n",
       "      <td>2016.00</td>\n",
       "      <td>1805.00</td>\n",
       "    </tr>\n",
       "  </tbody>\n",
       "</table>\n",
       "</div>"
      ],
      "text/plain": [
       "           pkp   pmid     pmc    doi       fb      am     year     diff\n",
       "count    25.00   25.0   25.00  25.00    25.00   24.00    25.00    24.00\n",
       "mean     95.88   19.4   20.44   2.76   138.48   27.62  2014.24   116.50\n",
       "std     372.25   79.6   64.61   7.79   458.93   61.80     1.64   410.79\n",
       "min       0.00    0.0    0.00   0.00     1.00    0.00  2011.00   -70.00\n",
       "25%       1.00    0.0    0.00   0.00     3.00    1.00  2013.00     0.75\n",
       "50%       2.00    0.0    2.00   0.00     7.00    2.00  2014.00     2.00\n",
       "75%       9.00    0.0    4.00   1.00    20.00   10.00  2016.00    11.00\n",
       "max    1847.00  396.0  303.00  33.00  2081.00  276.00  2016.00  1805.00"
      ]
     },
     "execution_count": 251,
     "metadata": {},
     "output_type": "execute_result"
    }
   ],
   "source": [
    "shares[(shares.pkp.notnull()) & (shares.pmid.notnull()) & (shares.pmc.notnull()) & (shares.doi.notnull())].describe()"
   ]
  },
  {
   "cell_type": "code",
   "execution_count": 252,
   "metadata": {},
   "outputs": [
    {
     "data": {
      "text/html": [
       "<div>\n",
       "<style>\n",
       "    .dataframe thead tr:only-child th {\n",
       "        text-align: right;\n",
       "    }\n",
       "\n",
       "    .dataframe thead th {\n",
       "        text-align: left;\n",
       "    }\n",
       "\n",
       "    .dataframe tbody tr th {\n",
       "        vertical-align: top;\n",
       "    }\n",
       "</style>\n",
       "<table border=\"1\" class=\"dataframe\">\n",
       "  <thead>\n",
       "    <tr style=\"text-align: right;\">\n",
       "      <th></th>\n",
       "      <th>pkp</th>\n",
       "      <th>pmid</th>\n",
       "      <th>pmc</th>\n",
       "      <th>doi</th>\n",
       "      <th>fb</th>\n",
       "      <th>am</th>\n",
       "      <th>year</th>\n",
       "      <th>diff</th>\n",
       "    </tr>\n",
       "  </thead>\n",
       "  <tbody>\n",
       "    <tr>\n",
       "      <th>count</th>\n",
       "      <td>7007.00</td>\n",
       "      <td>309.00</td>\n",
       "      <td>2873.00</td>\n",
       "      <td>3236.00</td>\n",
       "      <td>10214.00</td>\n",
       "      <td>15990.00</td>\n",
       "      <td>15990.00</td>\n",
       "      <td>10214.00</td>\n",
       "    </tr>\n",
       "    <tr>\n",
       "      <th>mean</th>\n",
       "      <td>2.15</td>\n",
       "      <td>3.37</td>\n",
       "      <td>0.93</td>\n",
       "      <td>1.65</td>\n",
       "      <td>2.35</td>\n",
       "      <td>0.76</td>\n",
       "      <td>2013.62</td>\n",
       "      <td>1.35</td>\n",
       "    </tr>\n",
       "    <tr>\n",
       "      <th>std</th>\n",
       "      <td>23.24</td>\n",
       "      <td>28.15</td>\n",
       "      <td>9.71</td>\n",
       "      <td>4.90</td>\n",
       "      <td>24.71</td>\n",
       "      <td>3.08</td>\n",
       "      <td>3.04</td>\n",
       "      <td>21.75</td>\n",
       "    </tr>\n",
       "    <tr>\n",
       "      <th>min</th>\n",
       "      <td>0.00</td>\n",
       "      <td>0.00</td>\n",
       "      <td>0.00</td>\n",
       "      <td>0.00</td>\n",
       "      <td>0.00</td>\n",
       "      <td>0.00</td>\n",
       "      <td>2000.00</td>\n",
       "      <td>-70.00</td>\n",
       "    </tr>\n",
       "    <tr>\n",
       "      <th>25%</th>\n",
       "      <td>0.00</td>\n",
       "      <td>0.00</td>\n",
       "      <td>0.00</td>\n",
       "      <td>0.00</td>\n",
       "      <td>0.00</td>\n",
       "      <td>0.00</td>\n",
       "      <td>2012.00</td>\n",
       "      <td>0.00</td>\n",
       "    </tr>\n",
       "    <tr>\n",
       "      <th>50%</th>\n",
       "      <td>1.00</td>\n",
       "      <td>0.00</td>\n",
       "      <td>0.00</td>\n",
       "      <td>1.00</td>\n",
       "      <td>1.00</td>\n",
       "      <td>0.00</td>\n",
       "      <td>2014.00</td>\n",
       "      <td>0.00</td>\n",
       "    </tr>\n",
       "    <tr>\n",
       "      <th>75%</th>\n",
       "      <td>2.00</td>\n",
       "      <td>1.00</td>\n",
       "      <td>0.00</td>\n",
       "      <td>2.00</td>\n",
       "      <td>2.00</td>\n",
       "      <td>1.00</td>\n",
       "      <td>2016.00</td>\n",
       "      <td>1.00</td>\n",
       "    </tr>\n",
       "    <tr>\n",
       "      <th>max</th>\n",
       "      <td>1847.00</td>\n",
       "      <td>396.00</td>\n",
       "      <td>303.00</td>\n",
       "      <td>136.00</td>\n",
       "      <td>2081.00</td>\n",
       "      <td>276.00</td>\n",
       "      <td>2017.00</td>\n",
       "      <td>1805.00</td>\n",
       "    </tr>\n",
       "  </tbody>\n",
       "</table>\n",
       "</div>"
      ],
      "text/plain": [
       "           pkp    pmid      pmc      doi        fb        am      year  \\\n",
       "count  7007.00  309.00  2873.00  3236.00  10214.00  15990.00  15990.00   \n",
       "mean      2.15    3.37     0.93     1.65      2.35      0.76   2013.62   \n",
       "std      23.24   28.15     9.71     4.90     24.71      3.08      3.04   \n",
       "min       0.00    0.00     0.00     0.00      0.00      0.00   2000.00   \n",
       "25%       0.00    0.00     0.00     0.00      0.00      0.00   2012.00   \n",
       "50%       1.00    0.00     0.00     1.00      1.00      0.00   2014.00   \n",
       "75%       2.00    1.00     0.00     2.00      2.00      1.00   2016.00   \n",
       "max    1847.00  396.00   303.00   136.00   2081.00    276.00   2017.00   \n",
       "\n",
       "           diff  \n",
       "count  10214.00  \n",
       "mean       1.35  \n",
       "std       21.75  \n",
       "min      -70.00  \n",
       "25%        0.00  \n",
       "50%        0.00  \n",
       "75%        1.00  \n",
       "max     1805.00  "
      ]
     },
     "execution_count": 252,
     "metadata": {},
     "output_type": "execute_result"
    }
   ],
   "source": [
    "shares[shares.am.notnull()].describe()"
   ]
  },
  {
   "cell_type": "code",
   "execution_count": 261,
   "metadata": {},
   "outputs": [
    {
     "data": {
      "text/plain": [
       "<matplotlib.axes._subplots.AxesSubplot at 0x7f4bffe0c470>"
      ]
     },
     "execution_count": 261,
     "metadata": {},
     "output_type": "execute_result"
    },
    {
     "data": {
      "image/png": "[encoded data removed]",
      "text/plain": [
       "<matplotlib.figure.Figure at 0x7f4bffe70c50>"
      ]
     },
     "metadata": {},
     "output_type": "display_data"
    }
   ],
   "source": [
    "shares.groupby('year')[['fb','am']].apply(lambda x: x.notnull().mean()).plot()"
   ]
  },
  {
   "cell_type": "markdown",
   "metadata": {},
   "source": [
    "------\n",
    "\n",
    "Quite interesting case of an article that has a lot of private shares based on PMC and PubMed, little shares for the PKP and none for the DOI (which is invalid)\n",
    "\n",
    "https://www.ncbi.nlm.nih.gov/pmc/articles/PMC4791148/"
   ]
  },
  {
   "cell_type": "markdown",
   "metadata": {},
   "source": [
    "# Old Code"
   ]
  },
  {
   "cell_type": "code",
   "execution_count": 258,
   "metadata": {
    "scrolled": true
   },
   "outputs": [
    {
     "data": {
      "image/png": "[encoded data removed]",
      "text/plain": [
       "<matplotlib.figure.Figure at 0x7f4bfffea400>"
      ]
     },
     "metadata": {},
     "output_type": "display_data"
    }
   ],
   "source": [
    "_ = shares[['year', 'am', 'pkp', 'pmc', 'pmid', 'doi']].melt(id_vars = ['year'], var_name=\"platform\", value_name=\"shares\")\n",
    "sns.pointplot(x=\"year\", y=\"shares\", hue=\"platform\",\n",
    "              data=_,\n",
    "             scale=.75, ci=False);\n",
    "plt.xticks(rotation=90);"
   ]
  },
  {
   "cell_type": "code",
   "execution_count": 259,
   "metadata": {},
   "outputs": [
    {
     "data": {
      "image/png": "[encoded data removed]",
      "text/plain": [
       "<matplotlib.figure.Figure at 0x7f4bffec4940>"
      ]
     },
     "metadata": {},
     "output_type": "display_data"
    }
   ],
   "source": [
    "sns.stripplot(x=\"year\", y=\"diff\", data=shares, jitter=True, dodge=True, alpha=.4, color=\"g\");\n",
    "plt.xticks(rotation=90);\n",
    "plt.ylim(-20,100)\n",
    "plt.ylabel('FB Total - Altmetric');"
   ]
  },
  {
   "cell_type": "code",
   "execution_count": 116,
   "metadata": {},
   "outputs": [
    {
     "data": {
      "image/png": "[encoded data removed]",
      "text/plain": [
       "<matplotlib.figure.Figure at 0x7f4c2675ffd0>"
      ]
     },
     "metadata": {},
     "output_type": "display_data"
    }
   ],
   "source": [
    "shares.replace(to_replace=0.0, value=np.nan).groupby(['year'])[['am', 'pkp', 'pmc', 'pmid', 'doi']].count().plot();"
   ]
  },
  {
   "cell_type": "code",
   "execution_count": 104,
   "metadata": {},
   "outputs": [],
   "source": [
    "pdf = shares[['year', 'am', 'total']].melt(id_vars = ['year'], var_name=\"platform\", value_name=\"shares\")"
   ]
  },
  {
   "cell_type": "code",
   "execution_count": 121,
   "metadata": {},
   "outputs": [
    {
     "data": {
      "image/png": "[encoded data removed]",
      "text/plain": [
       "<matplotlib.figure.Figure at 0x7f4c266905c0>"
      ]
     },
     "metadata": {},
     "output_type": "display_data"
    }
   ],
   "source": [
    "sns.stripplot(x=\"year\", y=\"shares\", hue=\"platform\",\n",
    "              data=pdf[pdf.shares<500],\n",
    "             jitter=True, dodge=True, alpha=.3);\n",
    "plt.xticks(rotation=90);"
   ]
  }
 ],
 "metadata": {
  "kernelspec": {
   "display_name": "altmetrics",
   "language": "python",
   "name": "altmetrics"
  },
  "language_info": {
   "codemirror_mode": {
    "name": "ipython",
    "version": 3
   },
   "file_extension": ".py",
   "mimetype": "text/x-python",
   "name": "python",
   "nbconvert_exporter": "python",
   "pygments_lexer": "ipython3",
   "version": "3.5.2"
  }
 },
 "nbformat": 4,
 "nbformat_minor": 2
}
