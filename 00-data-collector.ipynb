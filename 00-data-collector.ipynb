{
 "cells": [
  {
   "cell_type": "code",
   "execution_count": 109,
   "metadata": {},
   "outputs": [
    {
     "name": "stdout",
     "output_type": "stream",
     "text": [
      "The autoreload extension is already loaded. To reload it, use:\n",
      "  %reload_ext autoreload\n"
     ]
    }
   ],
   "source": [
    "%load_ext autoreload\n",
    "%autoreload 2"
   ]
  },
  {
   "cell_type": "code",
   "execution_count": 237,
   "metadata": {},
   "outputs": [],
   "source": [
    "import datetime, time\n",
    "import json\n",
    "import urllib.parse\n",
    "import pandas as pd\n",
    "import configparser\n",
    "from pprint import pprint\n",
    "\n",
    "from ATB.ATB.Altmetric import Altmetric, AltmetricHTTPException\n",
    "from ATB.ATB.Facebook import Facebook\n",
    "from ATB.ATB.DBConnection import DBConnection\n",
    "from ATB.ATB.Utils import resolve_doi, print_progress_bar\n",
    "\n",
    "# Load config\n",
    "Config = configparser.ConfigParser()\n",
    "Config.read('config.cnf')\n",
    "FACEBOOK_APP_ID = Config.get('facebook', 'app_id')\n",
    "FACEBOOK_APP_SECRET = Config.get('facebook', 'app_secret')\n",
    "ALTMETRIC_KEY = Config.get('altmetric', 'key')"
   ]
  },
  {
   "cell_type": "code",
   "execution_count": 238,
   "metadata": {},
   "outputs": [],
   "source": [
    "db_path = 'data/main.db'\n",
    "db_table = 'testing'\n",
    "db_col_names = ['doi', 'timestamp', 'doi_resolve_status',\n",
    "                'doi_resolve_error', 'doi_url', 'fb_og_object',\n",
    "                'fb_engagement', 'fb_response_error', 'am_response','am_response_error']\n",
    "db_col_types = ['TEXT', 'TEXT', 'INTEGER',\n",
    "                'TEXT', 'TEXT', 'TEXT',\n",
    "                'TEXT', 'TEXT', 'TEXT', 'TEXT']\n",
    "unique_col = \"doi\"\n",
    "\n",
    "db_con = DBConnection(db_path=db_path,\n",
    "                      db_table=db_table,\n",
    "                      db_col_names=db_col_names,\n",
    "                      db_col_types=db_col_types,\n",
    "                      unique_col=unique_col)"
   ]
  },
  {
   "cell_type": "code",
   "execution_count": 164,
   "metadata": {},
   "outputs": [
    {
     "name": "stdout",
     "output_type": "stream",
     "text": [
      "Generated access token: 287299458433880|6Y_ml710QWnU7HBYLWjaneoWVKU\n"
     ]
    }
   ],
   "source": [
    "fb_graph = Facebook(FACEBOOK_APP_ID, FACEBOOK_APP_SECRET)\n",
    "altmetric = Altmetric(api_key = ALTMETRIC_KEY)"
   ]
  },
  {
   "cell_type": "code",
   "execution_count": 9,
   "metadata": {},
   "outputs": [],
   "source": [
    "df = pd.read_csv(\"data/input_files/state_of_oa.csv\", encoding = 'utf8')\n",
    "dois = df.doi"
   ]
  },
  {
   "cell_type": "code",
   "execution_count": 188,
   "metadata": {},
   "outputs": [],
   "source": [
    "def parse_response(doi, now, doi_resolve_status, doi_resolve_error, doi_url, \n",
    "                   fb_og_object, fb_engagement, fb_response_error, am_response, am_response_error):\n",
    "\n",
    "    row = {'doi':str(doi),\n",
    "           'timestamp':str(now),\n",
    "           'doi_resolve_status':str(doi_resolve_status),\n",
    "           'doi_resolve_error':str(doi_resolve_error),\n",
    "           'doi_url':str(doi_url),\n",
    "           'fb_og_object':json.dumps(fb_og_object),\n",
    "           'fb_engagement':json.dumps(fb_engagement),\n",
    "           'fb_response_error':str(fb_response_error),\n",
    "           'am_response':json.dumps(am_response),\n",
    "           'am_response_error':str(am_response_error),\n",
    "          }\n",
    "    \n",
    "    return row"
   ]
  },
  {
   "cell_type": "code",
   "execution_count": 194,
   "metadata": {
    "scrolled": true
   },
   "outputs": [
    {
     "name": "stdout",
     "output_type": "stream",
     "text": [
      " |████████████████████████████████████████████████████████████████████████████████| 100.0% ETA 0:0:0\n"
     ]
    }
   ],
   "source": [
    "existing_dois = db_con.select(\"doi\", \"testing\")\n",
    "dois = [doi for doi in dois if doi not in existing_dois]\n",
    "input_list = dois.sample(20)\n",
    "i_max = len(input_list)\n",
    "\n",
    "for i, doi in enumerate(input_list, 1):\n",
    "    now = datetime.datetime.now()\n",
    "    \n",
    "    # Init row values\n",
    "    doi_resolve_status = None\n",
    "    doi_resolve_error = None\n",
    "    doi_url = None\n",
    "    fb_og_object = None\n",
    "    fb_engagement = None\n",
    "    fb_response_error = None \n",
    "    am_response = None\n",
    "    am_response_error = None\n",
    "    \n",
    "    # Resolve DOI\n",
    "    response_status, response = resolve_doi(doi)\n",
    "\n",
    "    # if the DOI resolving fails (timeouts, too many redirects, ...)\n",
    "    if response_status == \"NoResponse\":\n",
    "        doi_resolve_error = response\n",
    "        \n",
    "    # successfully resolved DOI\n",
    "    elif response_status == 200:\n",
    "        doi_resolve_status = response_status\n",
    "        doi_url = response\n",
    "        \n",
    "        # retriev FB Open Graph Object + engagement\n",
    "        try:\n",
    "            fb_response = fb_graph.get_object(id=urllib.parse.quote_plus(doi_url), fields=\"engagement, og_object\")\n",
    "        except:\n",
    "            fb_response_error = sys.exc_info()[0]\n",
    "        \n",
    "        try:\n",
    "            fb_og_object = fb_response['og_object']\n",
    "            fb_engagement = fb_response['engagement']\n",
    "        except:\n",
    "            fb_response_error = \"no_og_object\"\n",
    "        \n",
    "    # resolved DOI but status_code != 200\n",
    "    else:\n",
    "        doi_resolve_status = response_status\n",
    "        doi_resolve_error = response\n",
    "    \n",
    "    # Get Altmetric Data based on DOI\n",
    "    try:\n",
    "        am_response = altmetric.doi(doi=doi, fetch=True)\n",
    "    except AltmetricHTTPException as e:\n",
    "        am_response_error = e\n",
    "    \n",
    "    # Create DB entry\n",
    "    row = parse_response(doi, now, doi_resolve_status,\n",
    "                         doi_resolve_error, doi_url, fb_og_object,\n",
    "                         fb_engagement, fb_response_error, am_response,am_response_error)\n",
    "    db_con.save_row(row)\n",
    "    \n",
    "    # Do some nice API things\n",
    "    new = datetime.datetime.now()\n",
    "    delta = new - now\n",
    "    m, s = divmod(i_max-i, 60)\n",
    "    h, m = divmod(m, 60)\n",
    "    \n",
    "    if delta.seconds < 1:\n",
    "        time.sleep(1- delta.total_seconds())\n",
    "        \n",
    "    # Print progress bar\n",
    "    print_progress_bar(i, i_max, length=80, suffix=\"ETA {:d}:{:d}:{:d}\".format(h, m, s))"
   ]
  }
 ],
 "metadata": {
  "kernelspec": {
   "display_name": "altmetrics",
   "language": "python",
   "name": "altmetrics"
  },
  "language_info": {
   "codemirror_mode": {
    "name": "ipython",
    "version": 3
   },
   "file_extension": ".py",
   "mimetype": "text/x-python",
   "name": "python",
   "nbconvert_exporter": "python",
   "pygments_lexer": "ipython3",
   "version": "3.5.2"
  }
 },
 "nbformat": 4,
 "nbformat_minor": 2
}
